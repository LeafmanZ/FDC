{
 "metadata": {
  "language_info": {
   "codemirror_mode": {
    "name": "ipython",
    "version": 3
   },
   "file_extension": ".py",
   "mimetype": "text/x-python",
   "name": "python",
   "nbconvert_exporter": "python",
   "pygments_lexer": "ipython3",
   "version": "3.8.5-final"
  },
  "orig_nbformat": 2,
  "kernelspec": {
   "name": "python3",
   "display_name": "Python 3.8.5 64-bit",
   "metadata": {
    "interpreter": {
     "hash": "31f2aee4e71d21fbe5cf8b01ff0e069b9275f58929596ceb00d14d90e3e16cd6"
    }
   }
  }
 },
 "nbformat": 4,
 "nbformat_minor": 2,
 "cells": [
  {
   "cell_type": "code",
   "execution_count": 19,
   "metadata": {},
   "outputs": [
    {
     "output_type": "stream",
     "name": "stdout",
     "text": [
      "Working in: /home/rentfree/Documents/FIRE and Inequality/Full Econometric Model\n"
     ]
    }
   ],
   "source": [
    "# Get data from working directory\n",
    "import os\n",
    "import pandas as pd\n",
    "import matplotlib\n",
    "import matplotlib.pyplot as plt\n",
    "import numpy as np\n",
    "\n",
    "base_dir = os.getcwd()\n",
    "print('Working in:', base_dir)"
   ]
  },
  {
   "cell_type": "code",
   "execution_count": 20,
   "metadata": {},
   "outputs": [
    {
     "output_type": "execute_result",
     "data": {
      "text/plain": [
       "Percentile  Year   p0p50  p50p90  p90p99  p99p100\n",
       "0           1913  0.1510  0.4179  0.2269   0.2043\n",
       "1           1914  0.1492  0.4134  0.2282   0.2092\n",
       "2           1915  0.1513  0.4184  0.2274   0.2028\n",
       "3           1916  0.1472  0.4085  0.2306   0.2137\n",
       "4           1917  0.1462  0.4039  0.2368   0.2130"
      ],
      "text/html": "<div>\n<style scoped>\n    .dataframe tbody tr th:only-of-type {\n        vertical-align: middle;\n    }\n\n    .dataframe tbody tr th {\n        vertical-align: top;\n    }\n\n    .dataframe thead th {\n        text-align: right;\n    }\n</style>\n<table border=\"1\" class=\"dataframe\">\n  <thead>\n    <tr style=\"text-align: right;\">\n      <th>Percentile</th>\n      <th>Year</th>\n      <th>p0p50</th>\n      <th>p50p90</th>\n      <th>p90p99</th>\n      <th>p99p100</th>\n    </tr>\n  </thead>\n  <tbody>\n    <tr>\n      <th>0</th>\n      <td>1913</td>\n      <td>0.1510</td>\n      <td>0.4179</td>\n      <td>0.2269</td>\n      <td>0.2043</td>\n    </tr>\n    <tr>\n      <th>1</th>\n      <td>1914</td>\n      <td>0.1492</td>\n      <td>0.4134</td>\n      <td>0.2282</td>\n      <td>0.2092</td>\n    </tr>\n    <tr>\n      <th>2</th>\n      <td>1915</td>\n      <td>0.1513</td>\n      <td>0.4184</td>\n      <td>0.2274</td>\n      <td>0.2028</td>\n    </tr>\n    <tr>\n      <th>3</th>\n      <td>1916</td>\n      <td>0.1472</td>\n      <td>0.4085</td>\n      <td>0.2306</td>\n      <td>0.2137</td>\n    </tr>\n    <tr>\n      <th>4</th>\n      <td>1917</td>\n      <td>0.1462</td>\n      <td>0.4039</td>\n      <td>0.2368</td>\n      <td>0.2130</td>\n    </tr>\n  </tbody>\n</table>\n</div>"
     },
     "metadata": {},
     "execution_count": 20
    }
   ],
   "source": [
    "# Data is wealth and income shares of income demographic\n",
    "# Numbers represent percent share\n",
    "# Scraped from the world inequality database\n",
    "# https://wid.world/\n",
    "\n",
    "WI = os.path.join(base_dir, 'WI_shares_all.csv')\n",
    "WI_df = pd.read_csv(WI)\n",
    "\n",
    "Income_Share_df = pd.pivot_table(\n",
    "    WI_df,\n",
    "    index = \"Year\",\n",
    "    columns = \"Percentile\",\n",
    "    values = \"Pretax Income Share\").reset_index()\n",
    "\n",
    "Wealth_Share_df = pd.pivot_table(\n",
    "    WI_df,\n",
    "    index = \"Year\",\n",
    "    columns = \"Percentile\",\n",
    "    values = \"Net Personal Wealth Share\").reset_index()\n",
    "\n",
    "Percentile_Index = ['Year', 'p0p50','p50p90','p90p99','p99p100']\n",
    "\n",
    "Income_Share_df['p90p99'] = Income_Share_df['p90p100'] - Income_Share_df['p99p100'] \n",
    "Income_Share_df = Income_Share_df.drop('p90p100', 1)\n",
    "Income_Share_df = Income_Share_df[Percentile_Index]\n",
    "\n",
    "Wealth_Share_df['p90p99'] = Wealth_Share_df['p90p100'] - Wealth_Share_df['p99p100'] \n",
    "Wealth_Share_df = Wealth_Share_df.drop('p90p100', 1)\n",
    "Wealth_Share_df = Wealth_Share_df[Percentile_Index]\n",
    "\n",
    "Income_Share_df.head()"
   ]
  },
  {
   "cell_type": "code",
   "execution_count": 21,
   "metadata": {},
   "outputs": [],
   "source": [
    "from plotly.subplots import make_subplots\n",
    "import plotly.graph_objects as go"
   ]
  },
  {
   "cell_type": "code",
   "execution_count": 22,
   "metadata": {},
   "outputs": [
    {
     "output_type": "display_data",
     "data": {
      "application/vnd.plotly.v1+json": {
       "config": {
        "plotlyServerURL": "https://plot.ly"
       },
       "data": [
        {
         "name": "p0p50",
         "stackgroup": "one",
         "type": "scatter",
         "x": [
          1962,
          1963,
          1964,
          1965,
          1966,
          1967,
          1968,
          1969,
          1970,
          1971,
          1972,
          1973,
          1974,
          1975,
          1976,
          1977,
          1978,
          1979,
          1980,
          1981,
          1982,
          1983,
          1984,
          1985,
          1986,
          1987,
          1988,
          1989,
          1990,
          1991,
          1992,
          1993,
          1994,
          1995,
          1996,
          1997,
          1998,
          1999,
          2000,
          2001,
          2002,
          2003,
          2004,
          2005,
          2006,
          2007,
          2008,
          2009,
          2010,
          2011,
          2012,
          2013,
          2014,
          2015,
          2016,
          2017,
          2018,
          2019
         ],
         "y": [
          0.0253,
          0.0241,
          0.0229,
          0.0231,
          0.0234,
          0.022000000000000002,
          0.0195,
          0.0238,
          0.0213,
          0.0231,
          0.0217,
          0.0223,
          0.0209,
          0.022000000000000002,
          0.0237,
          0.0216,
          0.0227,
          0.0219,
          0.022000000000000002,
          0.0237,
          0.0266,
          0.0277,
          0.0254,
          0.0266,
          0.0264,
          0.0286,
          0.0273,
          0.027000000000000003,
          0.0268,
          0.0263,
          0.0243,
          0.0231,
          0.0219,
          0.0206,
          0.0189,
          0.0167,
          0.0158,
          0.017,
          0.0175,
          0.019,
          0.0194,
          0.0184,
          0.0179,
          0.0186,
          0.0169,
          0.0142,
          0.0112,
          0.0095,
          0.0089,
          0.0088,
          0.0087,
          0.0092,
          0.0103,
          0.0109,
          0.0115,
          0.0143,
          0.0148,
          0.0151
         ]
        },
        {
         "name": "p50p90",
         "stackgroup": "one",
         "type": "scatter",
         "x": [
          1962,
          1963,
          1964,
          1965,
          1966,
          1967,
          1968,
          1969,
          1970,
          1971,
          1972,
          1973,
          1974,
          1975,
          1976,
          1977,
          1978,
          1979,
          1980,
          1981,
          1982,
          1983,
          1984,
          1985,
          1986,
          1987,
          1988,
          1989,
          1990,
          1991,
          1992,
          1993,
          1994,
          1995,
          1996,
          1997,
          1998,
          1999,
          2000,
          2001,
          2002,
          2003,
          2004,
          2005,
          2006,
          2007,
          2008,
          2009,
          2010,
          2011,
          2012,
          2013,
          2014,
          2015,
          2016,
          2017,
          2018,
          2019
         ],
         "y": [
          0.2715,
          0.2731,
          0.2746,
          0.2784,
          0.2821,
          0.2952,
          0.2798,
          0.3033,
          0.2914,
          0.3039,
          0.2921,
          0.3029,
          0.324,
          0.3163,
          0.3321,
          0.3267,
          0.3477,
          0.3331,
          0.336,
          0.3382,
          0.345,
          0.349,
          0.3496,
          0.3523,
          0.3508,
          0.3441,
          0.3329,
          0.3321,
          0.3317,
          0.3316,
          0.3201,
          0.3186,
          0.3196,
          0.3182,
          0.3161,
          0.3114,
          0.3055,
          0.3043,
          0.3038,
          0.309,
          0.308,
          0.3076,
          0.3035,
          0.3022,
          0.303,
          0.3015,
          0.2944,
          0.2936,
          0.2823,
          0.2742,
          0.2657,
          0.262,
          0.2612,
          0.2624,
          0.2661,
          0.2773,
          0.2785,
          0.2782
         ]
        },
        {
         "name": "p90p99",
         "stackgroup": "one",
         "type": "scatter",
         "x": [
          1962,
          1963,
          1964,
          1965,
          1966,
          1967,
          1968,
          1969,
          1970,
          1971,
          1972,
          1973,
          1974,
          1975,
          1976,
          1977,
          1978,
          1979,
          1980,
          1981,
          1982,
          1983,
          1984,
          1985,
          1986,
          1987,
          1988,
          1989,
          1990,
          1991,
          1992,
          1993,
          1994,
          1995,
          1996,
          1997,
          1998,
          1999,
          2000,
          2001,
          2002,
          2003,
          2004,
          2005,
          2006,
          2007,
          2008,
          2009,
          2010,
          2011,
          2012,
          2013,
          2014,
          2015,
          2016,
          2017,
          2018,
          2019
         ],
         "y": [
          0.41980000000000006,
          0.42269999999999996,
          0.42560000000000003,
          0.4228,
          0.4203,
          0.4104,
          0.4118,
          0.40320000000000006,
          0.4237,
          0.41020000000000006,
          0.4247,
          0.42429999999999995,
          0.4183,
          0.42769999999999997,
          0.4212,
          0.42749999999999994,
          0.41490000000000005,
          0.41580000000000006,
          0.4125,
          0.4022,
          0.3863,
          0.38669999999999993,
          0.3866,
          0.3799,
          0.37650000000000006,
          0.36429999999999996,
          0.35840000000000005,
          0.35800000000000004,
          0.3591,
          0.3649,
          0.36779999999999996,
          0.371,
          0.3726,
          0.3758,
          0.37270000000000003,
          0.3707,
          0.36739999999999995,
          0.36429999999999996,
          0.3586,
          0.35700000000000004,
          0.36269999999999997,
          0.36440000000000006,
          0.3645,
          0.35750000000000004,
          0.35440000000000005,
          0.3543,
          0.3632,
          0.37539999999999996,
          0.3762,
          0.37349999999999994,
          0.3686,
          0.3755,
          0.3698,
          0.36660000000000004,
          0.36560000000000004,
          0.3578,
          0.3578,
          0.358
         ]
        },
        {
         "name": "p99p100",
         "stackgroup": "one",
         "type": "scatter",
         "x": [
          1962,
          1963,
          1964,
          1965,
          1966,
          1967,
          1968,
          1969,
          1970,
          1971,
          1972,
          1973,
          1974,
          1975,
          1976,
          1977,
          1978,
          1979,
          1980,
          1981,
          1982,
          1983,
          1984,
          1985,
          1986,
          1987,
          1988,
          1989,
          1990,
          1991,
          1992,
          1993,
          1994,
          1995,
          1996,
          1997,
          1998,
          1999,
          2000,
          2001,
          2002,
          2003,
          2004,
          2005,
          2006,
          2007,
          2008,
          2009,
          2010,
          2011,
          2012,
          2013,
          2014,
          2015,
          2016,
          2017,
          2018,
          2019
         ],
         "y": [
          0.2834,
          0.2801,
          0.2769,
          0.2756,
          0.2743,
          0.2724,
          0.289,
          0.2697,
          0.2637,
          0.2627,
          0.2615,
          0.2504,
          0.2368,
          0.23399999999999999,
          0.223,
          0.2242,
          0.2147,
          0.2292,
          0.2295,
          0.2359,
          0.2422,
          0.2366,
          0.2384,
          0.2412,
          0.2462,
          0.263,
          0.2814,
          0.2829,
          0.2824,
          0.2771,
          0.2878,
          0.2872,
          0.2859,
          0.2854,
          0.2923,
          0.3011,
          0.3113,
          0.3144,
          0.32,
          0.315,
          0.3099,
          0.3096,
          0.3141,
          0.3217,
          0.3256,
          0.33,
          0.3312,
          0.3215,
          0.3326,
          0.3436,
          0.35700000000000004,
          0.3533,
          0.3587,
          0.3601,
          0.3568,
          0.3506,
          0.349,
          0.3487
         ]
        }
       ],
       "layout": {
        "font": {
         "family": "Times New Roman"
        },
        "height": 500,
        "template": {
         "data": {
          "bar": [
           {
            "error_x": {
             "color": "#2a3f5f"
            },
            "error_y": {
             "color": "#2a3f5f"
            },
            "marker": {
             "line": {
              "color": "#E5ECF6",
              "width": 0.5
             }
            },
            "type": "bar"
           }
          ],
          "barpolar": [
           {
            "marker": {
             "line": {
              "color": "#E5ECF6",
              "width": 0.5
             }
            },
            "type": "barpolar"
           }
          ],
          "carpet": [
           {
            "aaxis": {
             "endlinecolor": "#2a3f5f",
             "gridcolor": "white",
             "linecolor": "white",
             "minorgridcolor": "white",
             "startlinecolor": "#2a3f5f"
            },
            "baxis": {
             "endlinecolor": "#2a3f5f",
             "gridcolor": "white",
             "linecolor": "white",
             "minorgridcolor": "white",
             "startlinecolor": "#2a3f5f"
            },
            "type": "carpet"
           }
          ],
          "choropleth": [
           {
            "colorbar": {
             "outlinewidth": 0,
             "ticks": ""
            },
            "type": "choropleth"
           }
          ],
          "contour": [
           {
            "colorbar": {
             "outlinewidth": 0,
             "ticks": ""
            },
            "colorscale": [
             [
              0,
              "#0d0887"
             ],
             [
              0.1111111111111111,
              "#46039f"
             ],
             [
              0.2222222222222222,
              "#7201a8"
             ],
             [
              0.3333333333333333,
              "#9c179e"
             ],
             [
              0.4444444444444444,
              "#bd3786"
             ],
             [
              0.5555555555555556,
              "#d8576b"
             ],
             [
              0.6666666666666666,
              "#ed7953"
             ],
             [
              0.7777777777777778,
              "#fb9f3a"
             ],
             [
              0.8888888888888888,
              "#fdca26"
             ],
             [
              1,
              "#f0f921"
             ]
            ],
            "type": "contour"
           }
          ],
          "contourcarpet": [
           {
            "colorbar": {
             "outlinewidth": 0,
             "ticks": ""
            },
            "type": "contourcarpet"
           }
          ],
          "heatmap": [
           {
            "colorbar": {
             "outlinewidth": 0,
             "ticks": ""
            },
            "colorscale": [
             [
              0,
              "#0d0887"
             ],
             [
              0.1111111111111111,
              "#46039f"
             ],
             [
              0.2222222222222222,
              "#7201a8"
             ],
             [
              0.3333333333333333,
              "#9c179e"
             ],
             [
              0.4444444444444444,
              "#bd3786"
             ],
             [
              0.5555555555555556,
              "#d8576b"
             ],
             [
              0.6666666666666666,
              "#ed7953"
             ],
             [
              0.7777777777777778,
              "#fb9f3a"
             ],
             [
              0.8888888888888888,
              "#fdca26"
             ],
             [
              1,
              "#f0f921"
             ]
            ],
            "type": "heatmap"
           }
          ],
          "heatmapgl": [
           {
            "colorbar": {
             "outlinewidth": 0,
             "ticks": ""
            },
            "colorscale": [
             [
              0,
              "#0d0887"
             ],
             [
              0.1111111111111111,
              "#46039f"
             ],
             [
              0.2222222222222222,
              "#7201a8"
             ],
             [
              0.3333333333333333,
              "#9c179e"
             ],
             [
              0.4444444444444444,
              "#bd3786"
             ],
             [
              0.5555555555555556,
              "#d8576b"
             ],
             [
              0.6666666666666666,
              "#ed7953"
             ],
             [
              0.7777777777777778,
              "#fb9f3a"
             ],
             [
              0.8888888888888888,
              "#fdca26"
             ],
             [
              1,
              "#f0f921"
             ]
            ],
            "type": "heatmapgl"
           }
          ],
          "histogram": [
           {
            "marker": {
             "colorbar": {
              "outlinewidth": 0,
              "ticks": ""
             }
            },
            "type": "histogram"
           }
          ],
          "histogram2d": [
           {
            "colorbar": {
             "outlinewidth": 0,
             "ticks": ""
            },
            "colorscale": [
             [
              0,
              "#0d0887"
             ],
             [
              0.1111111111111111,
              "#46039f"
             ],
             [
              0.2222222222222222,
              "#7201a8"
             ],
             [
              0.3333333333333333,
              "#9c179e"
             ],
             [
              0.4444444444444444,
              "#bd3786"
             ],
             [
              0.5555555555555556,
              "#d8576b"
             ],
             [
              0.6666666666666666,
              "#ed7953"
             ],
             [
              0.7777777777777778,
              "#fb9f3a"
             ],
             [
              0.8888888888888888,
              "#fdca26"
             ],
             [
              1,
              "#f0f921"
             ]
            ],
            "type": "histogram2d"
           }
          ],
          "histogram2dcontour": [
           {
            "colorbar": {
             "outlinewidth": 0,
             "ticks": ""
            },
            "colorscale": [
             [
              0,
              "#0d0887"
             ],
             [
              0.1111111111111111,
              "#46039f"
             ],
             [
              0.2222222222222222,
              "#7201a8"
             ],
             [
              0.3333333333333333,
              "#9c179e"
             ],
             [
              0.4444444444444444,
              "#bd3786"
             ],
             [
              0.5555555555555556,
              "#d8576b"
             ],
             [
              0.6666666666666666,
              "#ed7953"
             ],
             [
              0.7777777777777778,
              "#fb9f3a"
             ],
             [
              0.8888888888888888,
              "#fdca26"
             ],
             [
              1,
              "#f0f921"
             ]
            ],
            "type": "histogram2dcontour"
           }
          ],
          "mesh3d": [
           {
            "colorbar": {
             "outlinewidth": 0,
             "ticks": ""
            },
            "type": "mesh3d"
           }
          ],
          "parcoords": [
           {
            "line": {
             "colorbar": {
              "outlinewidth": 0,
              "ticks": ""
             }
            },
            "type": "parcoords"
           }
          ],
          "pie": [
           {
            "automargin": true,
            "type": "pie"
           }
          ],
          "scatter": [
           {
            "marker": {
             "colorbar": {
              "outlinewidth": 0,
              "ticks": ""
             }
            },
            "type": "scatter"
           }
          ],
          "scatter3d": [
           {
            "line": {
             "colorbar": {
              "outlinewidth": 0,
              "ticks": ""
             }
            },
            "marker": {
             "colorbar": {
              "outlinewidth": 0,
              "ticks": ""
             }
            },
            "type": "scatter3d"
           }
          ],
          "scattercarpet": [
           {
            "marker": {
             "colorbar": {
              "outlinewidth": 0,
              "ticks": ""
             }
            },
            "type": "scattercarpet"
           }
          ],
          "scattergeo": [
           {
            "marker": {
             "colorbar": {
              "outlinewidth": 0,
              "ticks": ""
             }
            },
            "type": "scattergeo"
           }
          ],
          "scattergl": [
           {
            "marker": {
             "colorbar": {
              "outlinewidth": 0,
              "ticks": ""
             }
            },
            "type": "scattergl"
           }
          ],
          "scattermapbox": [
           {
            "marker": {
             "colorbar": {
              "outlinewidth": 0,
              "ticks": ""
             }
            },
            "type": "scattermapbox"
           }
          ],
          "scatterpolar": [
           {
            "marker": {
             "colorbar": {
              "outlinewidth": 0,
              "ticks": ""
             }
            },
            "type": "scatterpolar"
           }
          ],
          "scatterpolargl": [
           {
            "marker": {
             "colorbar": {
              "outlinewidth": 0,
              "ticks": ""
             }
            },
            "type": "scatterpolargl"
           }
          ],
          "scatterternary": [
           {
            "marker": {
             "colorbar": {
              "outlinewidth": 0,
              "ticks": ""
             }
            },
            "type": "scatterternary"
           }
          ],
          "surface": [
           {
            "colorbar": {
             "outlinewidth": 0,
             "ticks": ""
            },
            "colorscale": [
             [
              0,
              "#0d0887"
             ],
             [
              0.1111111111111111,
              "#46039f"
             ],
             [
              0.2222222222222222,
              "#7201a8"
             ],
             [
              0.3333333333333333,
              "#9c179e"
             ],
             [
              0.4444444444444444,
              "#bd3786"
             ],
             [
              0.5555555555555556,
              "#d8576b"
             ],
             [
              0.6666666666666666,
              "#ed7953"
             ],
             [
              0.7777777777777778,
              "#fb9f3a"
             ],
             [
              0.8888888888888888,
              "#fdca26"
             ],
             [
              1,
              "#f0f921"
             ]
            ],
            "type": "surface"
           }
          ],
          "table": [
           {
            "cells": {
             "fill": {
              "color": "#EBF0F8"
             },
             "line": {
              "color": "white"
             }
            },
            "header": {
             "fill": {
              "color": "#C8D4E3"
             },
             "line": {
              "color": "white"
             }
            },
            "type": "table"
           }
          ]
         },
         "layout": {
          "annotationdefaults": {
           "arrowcolor": "#2a3f5f",
           "arrowhead": 0,
           "arrowwidth": 1
          },
          "autotypenumbers": "strict",
          "coloraxis": {
           "colorbar": {
            "outlinewidth": 0,
            "ticks": ""
           }
          },
          "colorscale": {
           "diverging": [
            [
             0,
             "#8e0152"
            ],
            [
             0.1,
             "#c51b7d"
            ],
            [
             0.2,
             "#de77ae"
            ],
            [
             0.3,
             "#f1b6da"
            ],
            [
             0.4,
             "#fde0ef"
            ],
            [
             0.5,
             "#f7f7f7"
            ],
            [
             0.6,
             "#e6f5d0"
            ],
            [
             0.7,
             "#b8e186"
            ],
            [
             0.8,
             "#7fbc41"
            ],
            [
             0.9,
             "#4d9221"
            ],
            [
             1,
             "#276419"
            ]
           ],
           "sequential": [
            [
             0,
             "#0d0887"
            ],
            [
             0.1111111111111111,
             "#46039f"
            ],
            [
             0.2222222222222222,
             "#7201a8"
            ],
            [
             0.3333333333333333,
             "#9c179e"
            ],
            [
             0.4444444444444444,
             "#bd3786"
            ],
            [
             0.5555555555555556,
             "#d8576b"
            ],
            [
             0.6666666666666666,
             "#ed7953"
            ],
            [
             0.7777777777777778,
             "#fb9f3a"
            ],
            [
             0.8888888888888888,
             "#fdca26"
            ],
            [
             1,
             "#f0f921"
            ]
           ],
           "sequentialminus": [
            [
             0,
             "#0d0887"
            ],
            [
             0.1111111111111111,
             "#46039f"
            ],
            [
             0.2222222222222222,
             "#7201a8"
            ],
            [
             0.3333333333333333,
             "#9c179e"
            ],
            [
             0.4444444444444444,
             "#bd3786"
            ],
            [
             0.5555555555555556,
             "#d8576b"
            ],
            [
             0.6666666666666666,
             "#ed7953"
            ],
            [
             0.7777777777777778,
             "#fb9f3a"
            ],
            [
             0.8888888888888888,
             "#fdca26"
            ],
            [
             1,
             "#f0f921"
            ]
           ]
          },
          "colorway": [
           "#636efa",
           "#EF553B",
           "#00cc96",
           "#ab63fa",
           "#FFA15A",
           "#19d3f3",
           "#FF6692",
           "#B6E880",
           "#FF97FF",
           "#FECB52"
          ],
          "font": {
           "color": "#2a3f5f"
          },
          "geo": {
           "bgcolor": "white",
           "lakecolor": "white",
           "landcolor": "#E5ECF6",
           "showlakes": true,
           "showland": true,
           "subunitcolor": "white"
          },
          "hoverlabel": {
           "align": "left"
          },
          "hovermode": "closest",
          "mapbox": {
           "style": "light"
          },
          "paper_bgcolor": "white",
          "plot_bgcolor": "#E5ECF6",
          "polar": {
           "angularaxis": {
            "gridcolor": "white",
            "linecolor": "white",
            "ticks": ""
           },
           "bgcolor": "#E5ECF6",
           "radialaxis": {
            "gridcolor": "white",
            "linecolor": "white",
            "ticks": ""
           }
          },
          "scene": {
           "xaxis": {
            "backgroundcolor": "#E5ECF6",
            "gridcolor": "white",
            "gridwidth": 2,
            "linecolor": "white",
            "showbackground": true,
            "ticks": "",
            "zerolinecolor": "white"
           },
           "yaxis": {
            "backgroundcolor": "#E5ECF6",
            "gridcolor": "white",
            "gridwidth": 2,
            "linecolor": "white",
            "showbackground": true,
            "ticks": "",
            "zerolinecolor": "white"
           },
           "zaxis": {
            "backgroundcolor": "#E5ECF6",
            "gridcolor": "white",
            "gridwidth": 2,
            "linecolor": "white",
            "showbackground": true,
            "ticks": "",
            "zerolinecolor": "white"
           }
          },
          "shapedefaults": {
           "line": {
            "color": "#2a3f5f"
           }
          },
          "ternary": {
           "aaxis": {
            "gridcolor": "white",
            "linecolor": "white",
            "ticks": ""
           },
           "baxis": {
            "gridcolor": "white",
            "linecolor": "white",
            "ticks": ""
           },
           "bgcolor": "#E5ECF6",
           "caxis": {
            "gridcolor": "white",
            "linecolor": "white",
            "ticks": ""
           }
          },
          "title": {
           "x": 0.05
          },
          "xaxis": {
           "automargin": true,
           "gridcolor": "white",
           "linecolor": "white",
           "ticks": "",
           "title": {
            "standoff": 15
           },
           "zerolinecolor": "white",
           "zerolinewidth": 2
          },
          "yaxis": {
           "automargin": true,
           "gridcolor": "white",
           "linecolor": "white",
           "ticks": "",
           "title": {
            "standoff": 15
           },
           "zerolinecolor": "white",
           "zerolinewidth": 2
          }
         }
        },
        "title": {
         "font": {
          "family": "Times New Roman"
         },
         "text": "Annual Wealth Share from 1962-2019",
         "x": 0.5,
         "xanchor": "center",
         "y": 0.9,
         "yanchor": "top"
        },
        "width": 900,
        "xaxis": {
         "anchor": "y",
         "domain": [
          0,
          1
         ],
         "title": {
          "text": "Year"
         }
        },
        "yaxis": {
         "anchor": "x",
         "domain": [
          0,
          1
         ],
         "range": [
          0,
          1
         ],
         "tickformat": "%",
         "title": {
          "text": "Percent wealth share"
         }
        }
       }
      }
     },
     "metadata": {}
    }
   ],
   "source": [
    "fig1 = make_subplots()\n",
    "nw_cols = ['p0p50', 'p50p90', 'p90p99', 'p99p100']\n",
    "n_title = \"Annual Wealth Share from 1962-2019\"\n",
    "\n",
    "for col in nw_cols:\n",
    "    fig1.add_trace(go.Scatter(x = Wealth_Share_df['Year'],\n",
    "                             y = Wealth_Share_df[col],\n",
    "                             name = col,\n",
    "                             stackgroup='one')\n",
    "    )\n",
    "    \n",
    "fig1.update_yaxes(tickformat='%', title_text=\"Percent wealth share\", range = [0,1])\n",
    "\n",
    "fig1.update_xaxes(title_text=\"Year\")\n",
    "\n",
    "fig1.update_layout(\n",
    "    font_family=\"Times New Roman\",\n",
    "    title_font_family=\"Times New Roman\",\n",
    "    height=500, width=900,\n",
    "    title={\n",
    "        'text': n_title,\n",
    "        'y':0.9,\n",
    "        'x':0.5,\n",
    "        'xanchor': 'center',\n",
    "        'yanchor': 'top'}\n",
    ")\n",
    "\n",
    "fig1.show()"
   ]
  },
  {
   "cell_type": "code",
   "execution_count": 23,
   "metadata": {},
   "outputs": [],
   "source": [
    "save_text = \"{}.png\".format(n_title)\n",
    "fig1.write_image(save_text)"
   ]
  },
  {
   "cell_type": "code",
   "execution_count": 24,
   "metadata": {},
   "outputs": [
    {
     "output_type": "display_data",
     "data": {
      "application/vnd.plotly.v1+json": {
       "config": {
        "plotlyServerURL": "https://plot.ly"
       },
       "data": [
        {
         "name": "p0p50",
         "stackgroup": "one",
         "type": "scatter",
         "x": [
          1913,
          1914,
          1915,
          1916,
          1917,
          1918,
          1919,
          1920,
          1921,
          1922,
          1923,
          1924,
          1925,
          1926,
          1927,
          1928,
          1929,
          1930,
          1931,
          1932,
          1933,
          1934,
          1935,
          1936,
          1937,
          1938,
          1939,
          1940,
          1941,
          1942,
          1943,
          1944,
          1945,
          1946,
          1947,
          1948,
          1949,
          1950,
          1951,
          1952,
          1953,
          1954,
          1955,
          1956,
          1957,
          1958,
          1959,
          1960,
          1961,
          1962,
          1963,
          1964,
          1965,
          1966,
          1967,
          1968,
          1969,
          1970,
          1971,
          1972,
          1973,
          1974,
          1975,
          1976,
          1977,
          1978,
          1979,
          1980,
          1981,
          1982,
          1983,
          1984,
          1985,
          1986,
          1987,
          1988,
          1989,
          1990,
          1991,
          1992,
          1993,
          1994,
          1995,
          1996,
          1997,
          1998,
          1999,
          2000,
          2001,
          2002,
          2003,
          2004,
          2005,
          2006,
          2007,
          2008,
          2009,
          2010,
          2011,
          2012,
          2013,
          2014,
          2015,
          2016,
          2017,
          2018,
          2019
         ],
         "y": [
          0.151,
          0.1492,
          0.1513,
          0.1472,
          0.1462,
          0.1476,
          0.1437,
          0.1482,
          0.1384,
          0.1422,
          0.1488,
          0.1417,
          0.1372,
          0.1361,
          0.1377,
          0.1351,
          0.1384,
          0.1392,
          0.138,
          0.1323,
          0.1333,
          0.1316,
          0.1384,
          0.1385,
          0.1412,
          0.1418,
          0.1379,
          0.1387,
          0.1454,
          0.1771,
          0.188,
          0.1965,
          0.1582,
          0.1712,
          0.1728,
          0.1741,
          0.1709,
          0.1753,
          0.1838,
          0.1895,
          0.1929,
          0.1861,
          0.1877,
          0.1929,
          0.1922,
          0.1841,
          0.1819,
          0.1822,
          0.1768,
          0.1955,
          0.191,
          0.1868,
          0.1916,
          0.196,
          0.209,
          0.2068,
          0.2136,
          0.2124,
          0.2056,
          0.2036,
          0.2054,
          0.2101,
          0.2045,
          0.2055,
          0.2028,
          0.2023,
          0.2036,
          0.2008,
          0.1967,
          0.1911,
          0.1832,
          0.1796,
          0.1784,
          0.1767,
          0.1737,
          0.1689,
          0.1697,
          0.1688,
          0.1666,
          0.1594,
          0.1606,
          0.1607,
          0.1568,
          0.1542,
          0.1521,
          0.1524,
          0.1518,
          0.1507,
          0.1532,
          0.1538,
          0.1511,
          0.1482,
          0.1441,
          0.1413,
          0.1435,
          0.1431,
          0.1425,
          0.1385,
          0.1346,
          0.1321,
          0.1343,
          0.1315,
          0.1319,
          0.1308,
          0.1358,
          0.1348,
          0.1352
         ]
        },
        {
         "name": "p50p90",
         "stackgroup": "one",
         "type": "scatter",
         "x": [
          1913,
          1914,
          1915,
          1916,
          1917,
          1918,
          1919,
          1920,
          1921,
          1922,
          1923,
          1924,
          1925,
          1926,
          1927,
          1928,
          1929,
          1930,
          1931,
          1932,
          1933,
          1934,
          1935,
          1936,
          1937,
          1938,
          1939,
          1940,
          1941,
          1942,
          1943,
          1944,
          1945,
          1946,
          1947,
          1948,
          1949,
          1950,
          1951,
          1952,
          1953,
          1954,
          1955,
          1956,
          1957,
          1958,
          1959,
          1960,
          1961,
          1962,
          1963,
          1964,
          1965,
          1966,
          1967,
          1968,
          1969,
          1970,
          1971,
          1972,
          1973,
          1974,
          1975,
          1976,
          1977,
          1978,
          1979,
          1980,
          1981,
          1982,
          1983,
          1984,
          1985,
          1986,
          1987,
          1988,
          1989,
          1990,
          1991,
          1992,
          1993,
          1994,
          1995,
          1996,
          1997,
          1998,
          1999,
          2000,
          2001,
          2002,
          2003,
          2004,
          2005,
          2006,
          2007,
          2008,
          2009,
          2010,
          2011,
          2012,
          2013,
          2014,
          2015,
          2016,
          2017,
          2018,
          2019
         ],
         "y": [
          0.4179,
          0.4134,
          0.4184,
          0.4085,
          0.4039,
          0.4127,
          0.3973,
          0.4104,
          0.3878,
          0.3969,
          0.4143,
          0.4012,
          0.3908,
          0.38799999999999996,
          0.3915,
          0.3826,
          0.3921,
          0.3979,
          0.3986,
          0.3847,
          0.3869,
          0.3778,
          0.3806,
          0.3779,
          0.3842,
          0.3872,
          0.3763,
          0.3719,
          0.3848,
          0.3997,
          0.4234,
          0.4428,
          0.4889,
          0.4593,
          0.4585,
          0.4373,
          0.4456,
          0.4341,
          0.43700000000000006,
          0.4441,
          0.4504,
          0.4541,
          0.445,
          0.4499,
          0.4511,
          0.4609,
          0.4585,
          0.4627,
          0.4671,
          0.4455,
          0.4453,
          0.4451,
          0.4438,
          0.4427,
          0.4406,
          0.4405,
          0.4477,
          0.4545,
          0.4556,
          0.4547,
          0.4501,
          0.4553,
          0.4572,
          0.4569,
          0.4556,
          0.4588,
          0.4543,
          0.4615,
          0.4609,
          0.4639,
          0.4652,
          0.4567,
          0.4573,
          0.4617,
          0.4552,
          0.4431,
          0.4463,
          0.4474,
          0.4513,
          0.44799999999999995,
          0.4502,
          0.4498,
          0.4458,
          0.4392,
          0.4344,
          0.4298,
          0.4274,
          0.4229,
          0.4289,
          0.4325,
          0.4343,
          0.4297,
          0.4235,
          0.4182,
          0.4165,
          0.4208,
          0.4334,
          0.4245,
          0.4222,
          0.4137,
          0.4171,
          0.4135,
          0.4128,
          0.4163,
          0.4119,
          0.4101,
          0.4114
         ]
        },
        {
         "name": "p90p99",
         "stackgroup": "one",
         "type": "scatter",
         "x": [
          1913,
          1914,
          1915,
          1916,
          1917,
          1918,
          1919,
          1920,
          1921,
          1922,
          1923,
          1924,
          1925,
          1926,
          1927,
          1928,
          1929,
          1930,
          1931,
          1932,
          1933,
          1934,
          1935,
          1936,
          1937,
          1938,
          1939,
          1940,
          1941,
          1942,
          1943,
          1944,
          1945,
          1946,
          1947,
          1948,
          1949,
          1950,
          1951,
          1952,
          1953,
          1954,
          1955,
          1956,
          1957,
          1958,
          1959,
          1960,
          1961,
          1962,
          1963,
          1964,
          1965,
          1966,
          1967,
          1968,
          1969,
          1970,
          1971,
          1972,
          1973,
          1974,
          1975,
          1976,
          1977,
          1978,
          1979,
          1980,
          1981,
          1982,
          1983,
          1984,
          1985,
          1986,
          1987,
          1988,
          1989,
          1990,
          1991,
          1992,
          1993,
          1994,
          1995,
          1996,
          1997,
          1998,
          1999,
          2000,
          2001,
          2002,
          2003,
          2004,
          2005,
          2006,
          2007,
          2008,
          2009,
          2010,
          2011,
          2012,
          2013,
          2014,
          2015,
          2016,
          2017,
          2018,
          2019
         ],
         "y": [
          0.22690000000000002,
          0.22820000000000001,
          0.22740000000000002,
          0.23059999999999997,
          0.23679999999999998,
          0.24280000000000004,
          0.24259999999999995,
          0.2501,
          0.28200000000000003,
          0.2751,
          0.25980000000000003,
          0.2724,
          0.2652,
          0.2567,
          0.2583,
          0.2594,
          0.24780000000000002,
          0.2692,
          0.29569999999999996,
          0.31779999999999997,
          0.305,
          0.29989999999999994,
          0.28770000000000007,
          0.2743,
          0.2682,
          0.2846,
          0.2901,
          0.2808,
          0.2542,
          0.2174,
          0.20259999999999997,
          0.20709999999999998,
          0.2102,
          0.2266,
          0.21900000000000003,
          0.22569999999999998,
          0.22640000000000002,
          0.2235,
          0.2191,
          0.2168,
          0.21630000000000002,
          0.2204,
          0.221,
          0.21910000000000002,
          0.2214,
          0.22840000000000002,
          0.22749999999999998,
          0.2282,
          0.23080000000000003,
          0.23249999999999998,
          0.23570000000000002,
          0.2387,
          0.23589999999999997,
          0.2332,
          0.22809999999999997,
          0.22840000000000002,
          0.22450000000000003,
          0.22820000000000001,
          0.22999999999999998,
          0.23299999999999998,
          0.23679999999999995,
          0.232,
          0.2352,
          0.2354,
          0.2369,
          0.2363,
          0.2343,
          0.2343,
          0.23679999999999998,
          0.23629999999999995,
          0.23889999999999997,
          0.2449,
          0.24430000000000002,
          0.24489999999999998,
          0.2428,
          0.24179999999999996,
          0.2422,
          0.24159999999999998,
          0.24680000000000002,
          0.24810000000000001,
          0.24969999999999998,
          0.25160000000000005,
          0.2542,
          0.256,
          0.2557,
          0.25570000000000004,
          0.2551,
          0.2536,
          0.253,
          0.2539,
          0.25270000000000004,
          0.25349999999999995,
          0.2553,
          0.2576,
          0.25570000000000004,
          0.2556,
          0.2577,
          0.2604,
          0.2616,
          0.26149999999999995,
          0.26549999999999996,
          0.2664,
          0.2672,
          0.2672,
          0.2648,
          0.2659,
          0.2663
         ]
        },
        {
         "name": "p99p100",
         "stackgroup": "one",
         "type": "scatter",
         "x": [
          1913,
          1914,
          1915,
          1916,
          1917,
          1918,
          1919,
          1920,
          1921,
          1922,
          1923,
          1924,
          1925,
          1926,
          1927,
          1928,
          1929,
          1930,
          1931,
          1932,
          1933,
          1934,
          1935,
          1936,
          1937,
          1938,
          1939,
          1940,
          1941,
          1942,
          1943,
          1944,
          1945,
          1946,
          1947,
          1948,
          1949,
          1950,
          1951,
          1952,
          1953,
          1954,
          1955,
          1956,
          1957,
          1958,
          1959,
          1960,
          1961,
          1962,
          1963,
          1964,
          1965,
          1966,
          1967,
          1968,
          1969,
          1970,
          1971,
          1972,
          1973,
          1974,
          1975,
          1976,
          1977,
          1978,
          1979,
          1980,
          1981,
          1982,
          1983,
          1984,
          1985,
          1986,
          1987,
          1988,
          1989,
          1990,
          1991,
          1992,
          1993,
          1994,
          1995,
          1996,
          1997,
          1998,
          1999,
          2000,
          2001,
          2002,
          2003,
          2004,
          2005,
          2006,
          2007,
          2008,
          2009,
          2010,
          2011,
          2012,
          2013,
          2014,
          2015,
          2016,
          2017,
          2018,
          2019
         ],
         "y": [
          0.2043,
          0.2092,
          0.2028,
          0.2137,
          0.213,
          0.19699999999999998,
          0.2164,
          0.1913,
          0.1918,
          0.1858,
          0.1771,
          0.1847,
          0.2069,
          0.2192,
          0.2124,
          0.2229,
          0.2218,
          0.1938,
          0.1677,
          0.1652,
          0.1748,
          0.1907,
          0.1933,
          0.2092,
          0.2064,
          0.1864,
          0.1957,
          0.2086,
          0.2156,
          0.2058,
          0.18600000000000003,
          0.1535,
          0.1427,
          0.1429,
          0.1498,
          0.163,
          0.157,
          0.1671,
          0.1601,
          0.1496,
          0.1404,
          0.1394,
          0.1463,
          0.1381,
          0.1353,
          0.1267,
          0.1321,
          0.1268,
          0.1253,
          0.1265,
          0.128,
          0.1294,
          0.1287,
          0.1282,
          0.1223,
          0.1243,
          0.1141,
          0.1049,
          0.1088,
          0.1087,
          0.1077,
          0.1026,
          0.1031,
          0.1022,
          0.1047,
          0.1025,
          0.1077,
          0.1034,
          0.1056,
          0.1087,
          0.1126,
          0.1189,
          0.12,
          0.1167,
          0.1283,
          0.1462,
          0.1418,
          0.1422,
          0.1352,
          0.1445,
          0.1395,
          0.1379,
          0.1432,
          0.1506,
          0.1578,
          0.162,
          0.1657,
          0.1728,
          0.1649,
          0.1598,
          0.1619,
          0.1686,
          0.177,
          0.183,
          0.1843,
          0.1804,
          0.1664,
          0.1765,
          0.1815,
          0.1927,
          0.1832,
          0.1886,
          0.1881,
          0.1858,
          0.1875,
          0.1892,
          0.1872
         ]
        }
       ],
       "layout": {
        "font": {
         "family": "Times New Roman"
        },
        "height": 500,
        "template": {
         "data": {
          "bar": [
           {
            "error_x": {
             "color": "#2a3f5f"
            },
            "error_y": {
             "color": "#2a3f5f"
            },
            "marker": {
             "line": {
              "color": "#E5ECF6",
              "width": 0.5
             }
            },
            "type": "bar"
           }
          ],
          "barpolar": [
           {
            "marker": {
             "line": {
              "color": "#E5ECF6",
              "width": 0.5
             }
            },
            "type": "barpolar"
           }
          ],
          "carpet": [
           {
            "aaxis": {
             "endlinecolor": "#2a3f5f",
             "gridcolor": "white",
             "linecolor": "white",
             "minorgridcolor": "white",
             "startlinecolor": "#2a3f5f"
            },
            "baxis": {
             "endlinecolor": "#2a3f5f",
             "gridcolor": "white",
             "linecolor": "white",
             "minorgridcolor": "white",
             "startlinecolor": "#2a3f5f"
            },
            "type": "carpet"
           }
          ],
          "choropleth": [
           {
            "colorbar": {
             "outlinewidth": 0,
             "ticks": ""
            },
            "type": "choropleth"
           }
          ],
          "contour": [
           {
            "colorbar": {
             "outlinewidth": 0,
             "ticks": ""
            },
            "colorscale": [
             [
              0,
              "#0d0887"
             ],
             [
              0.1111111111111111,
              "#46039f"
             ],
             [
              0.2222222222222222,
              "#7201a8"
             ],
             [
              0.3333333333333333,
              "#9c179e"
             ],
             [
              0.4444444444444444,
              "#bd3786"
             ],
             [
              0.5555555555555556,
              "#d8576b"
             ],
             [
              0.6666666666666666,
              "#ed7953"
             ],
             [
              0.7777777777777778,
              "#fb9f3a"
             ],
             [
              0.8888888888888888,
              "#fdca26"
             ],
             [
              1,
              "#f0f921"
             ]
            ],
            "type": "contour"
           }
          ],
          "contourcarpet": [
           {
            "colorbar": {
             "outlinewidth": 0,
             "ticks": ""
            },
            "type": "contourcarpet"
           }
          ],
          "heatmap": [
           {
            "colorbar": {
             "outlinewidth": 0,
             "ticks": ""
            },
            "colorscale": [
             [
              0,
              "#0d0887"
             ],
             [
              0.1111111111111111,
              "#46039f"
             ],
             [
              0.2222222222222222,
              "#7201a8"
             ],
             [
              0.3333333333333333,
              "#9c179e"
             ],
             [
              0.4444444444444444,
              "#bd3786"
             ],
             [
              0.5555555555555556,
              "#d8576b"
             ],
             [
              0.6666666666666666,
              "#ed7953"
             ],
             [
              0.7777777777777778,
              "#fb9f3a"
             ],
             [
              0.8888888888888888,
              "#fdca26"
             ],
             [
              1,
              "#f0f921"
             ]
            ],
            "type": "heatmap"
           }
          ],
          "heatmapgl": [
           {
            "colorbar": {
             "outlinewidth": 0,
             "ticks": ""
            },
            "colorscale": [
             [
              0,
              "#0d0887"
             ],
             [
              0.1111111111111111,
              "#46039f"
             ],
             [
              0.2222222222222222,
              "#7201a8"
             ],
             [
              0.3333333333333333,
              "#9c179e"
             ],
             [
              0.4444444444444444,
              "#bd3786"
             ],
             [
              0.5555555555555556,
              "#d8576b"
             ],
             [
              0.6666666666666666,
              "#ed7953"
             ],
             [
              0.7777777777777778,
              "#fb9f3a"
             ],
             [
              0.8888888888888888,
              "#fdca26"
             ],
             [
              1,
              "#f0f921"
             ]
            ],
            "type": "heatmapgl"
           }
          ],
          "histogram": [
           {
            "marker": {
             "colorbar": {
              "outlinewidth": 0,
              "ticks": ""
             }
            },
            "type": "histogram"
           }
          ],
          "histogram2d": [
           {
            "colorbar": {
             "outlinewidth": 0,
             "ticks": ""
            },
            "colorscale": [
             [
              0,
              "#0d0887"
             ],
             [
              0.1111111111111111,
              "#46039f"
             ],
             [
              0.2222222222222222,
              "#7201a8"
             ],
             [
              0.3333333333333333,
              "#9c179e"
             ],
             [
              0.4444444444444444,
              "#bd3786"
             ],
             [
              0.5555555555555556,
              "#d8576b"
             ],
             [
              0.6666666666666666,
              "#ed7953"
             ],
             [
              0.7777777777777778,
              "#fb9f3a"
             ],
             [
              0.8888888888888888,
              "#fdca26"
             ],
             [
              1,
              "#f0f921"
             ]
            ],
            "type": "histogram2d"
           }
          ],
          "histogram2dcontour": [
           {
            "colorbar": {
             "outlinewidth": 0,
             "ticks": ""
            },
            "colorscale": [
             [
              0,
              "#0d0887"
             ],
             [
              0.1111111111111111,
              "#46039f"
             ],
             [
              0.2222222222222222,
              "#7201a8"
             ],
             [
              0.3333333333333333,
              "#9c179e"
             ],
             [
              0.4444444444444444,
              "#bd3786"
             ],
             [
              0.5555555555555556,
              "#d8576b"
             ],
             [
              0.6666666666666666,
              "#ed7953"
             ],
             [
              0.7777777777777778,
              "#fb9f3a"
             ],
             [
              0.8888888888888888,
              "#fdca26"
             ],
             [
              1,
              "#f0f921"
             ]
            ],
            "type": "histogram2dcontour"
           }
          ],
          "mesh3d": [
           {
            "colorbar": {
             "outlinewidth": 0,
             "ticks": ""
            },
            "type": "mesh3d"
           }
          ],
          "parcoords": [
           {
            "line": {
             "colorbar": {
              "outlinewidth": 0,
              "ticks": ""
             }
            },
            "type": "parcoords"
           }
          ],
          "pie": [
           {
            "automargin": true,
            "type": "pie"
           }
          ],
          "scatter": [
           {
            "marker": {
             "colorbar": {
              "outlinewidth": 0,
              "ticks": ""
             }
            },
            "type": "scatter"
           }
          ],
          "scatter3d": [
           {
            "line": {
             "colorbar": {
              "outlinewidth": 0,
              "ticks": ""
             }
            },
            "marker": {
             "colorbar": {
              "outlinewidth": 0,
              "ticks": ""
             }
            },
            "type": "scatter3d"
           }
          ],
          "scattercarpet": [
           {
            "marker": {
             "colorbar": {
              "outlinewidth": 0,
              "ticks": ""
             }
            },
            "type": "scattercarpet"
           }
          ],
          "scattergeo": [
           {
            "marker": {
             "colorbar": {
              "outlinewidth": 0,
              "ticks": ""
             }
            },
            "type": "scattergeo"
           }
          ],
          "scattergl": [
           {
            "marker": {
             "colorbar": {
              "outlinewidth": 0,
              "ticks": ""
             }
            },
            "type": "scattergl"
           }
          ],
          "scattermapbox": [
           {
            "marker": {
             "colorbar": {
              "outlinewidth": 0,
              "ticks": ""
             }
            },
            "type": "scattermapbox"
           }
          ],
          "scatterpolar": [
           {
            "marker": {
             "colorbar": {
              "outlinewidth": 0,
              "ticks": ""
             }
            },
            "type": "scatterpolar"
           }
          ],
          "scatterpolargl": [
           {
            "marker": {
             "colorbar": {
              "outlinewidth": 0,
              "ticks": ""
             }
            },
            "type": "scatterpolargl"
           }
          ],
          "scatterternary": [
           {
            "marker": {
             "colorbar": {
              "outlinewidth": 0,
              "ticks": ""
             }
            },
            "type": "scatterternary"
           }
          ],
          "surface": [
           {
            "colorbar": {
             "outlinewidth": 0,
             "ticks": ""
            },
            "colorscale": [
             [
              0,
              "#0d0887"
             ],
             [
              0.1111111111111111,
              "#46039f"
             ],
             [
              0.2222222222222222,
              "#7201a8"
             ],
             [
              0.3333333333333333,
              "#9c179e"
             ],
             [
              0.4444444444444444,
              "#bd3786"
             ],
             [
              0.5555555555555556,
              "#d8576b"
             ],
             [
              0.6666666666666666,
              "#ed7953"
             ],
             [
              0.7777777777777778,
              "#fb9f3a"
             ],
             [
              0.8888888888888888,
              "#fdca26"
             ],
             [
              1,
              "#f0f921"
             ]
            ],
            "type": "surface"
           }
          ],
          "table": [
           {
            "cells": {
             "fill": {
              "color": "#EBF0F8"
             },
             "line": {
              "color": "white"
             }
            },
            "header": {
             "fill": {
              "color": "#C8D4E3"
             },
             "line": {
              "color": "white"
             }
            },
            "type": "table"
           }
          ]
         },
         "layout": {
          "annotationdefaults": {
           "arrowcolor": "#2a3f5f",
           "arrowhead": 0,
           "arrowwidth": 1
          },
          "autotypenumbers": "strict",
          "coloraxis": {
           "colorbar": {
            "outlinewidth": 0,
            "ticks": ""
           }
          },
          "colorscale": {
           "diverging": [
            [
             0,
             "#8e0152"
            ],
            [
             0.1,
             "#c51b7d"
            ],
            [
             0.2,
             "#de77ae"
            ],
            [
             0.3,
             "#f1b6da"
            ],
            [
             0.4,
             "#fde0ef"
            ],
            [
             0.5,
             "#f7f7f7"
            ],
            [
             0.6,
             "#e6f5d0"
            ],
            [
             0.7,
             "#b8e186"
            ],
            [
             0.8,
             "#7fbc41"
            ],
            [
             0.9,
             "#4d9221"
            ],
            [
             1,
             "#276419"
            ]
           ],
           "sequential": [
            [
             0,
             "#0d0887"
            ],
            [
             0.1111111111111111,
             "#46039f"
            ],
            [
             0.2222222222222222,
             "#7201a8"
            ],
            [
             0.3333333333333333,
             "#9c179e"
            ],
            [
             0.4444444444444444,
             "#bd3786"
            ],
            [
             0.5555555555555556,
             "#d8576b"
            ],
            [
             0.6666666666666666,
             "#ed7953"
            ],
            [
             0.7777777777777778,
             "#fb9f3a"
            ],
            [
             0.8888888888888888,
             "#fdca26"
            ],
            [
             1,
             "#f0f921"
            ]
           ],
           "sequentialminus": [
            [
             0,
             "#0d0887"
            ],
            [
             0.1111111111111111,
             "#46039f"
            ],
            [
             0.2222222222222222,
             "#7201a8"
            ],
            [
             0.3333333333333333,
             "#9c179e"
            ],
            [
             0.4444444444444444,
             "#bd3786"
            ],
            [
             0.5555555555555556,
             "#d8576b"
            ],
            [
             0.6666666666666666,
             "#ed7953"
            ],
            [
             0.7777777777777778,
             "#fb9f3a"
            ],
            [
             0.8888888888888888,
             "#fdca26"
            ],
            [
             1,
             "#f0f921"
            ]
           ]
          },
          "colorway": [
           "#636efa",
           "#EF553B",
           "#00cc96",
           "#ab63fa",
           "#FFA15A",
           "#19d3f3",
           "#FF6692",
           "#B6E880",
           "#FF97FF",
           "#FECB52"
          ],
          "font": {
           "color": "#2a3f5f"
          },
          "geo": {
           "bgcolor": "white",
           "lakecolor": "white",
           "landcolor": "#E5ECF6",
           "showlakes": true,
           "showland": true,
           "subunitcolor": "white"
          },
          "hoverlabel": {
           "align": "left"
          },
          "hovermode": "closest",
          "mapbox": {
           "style": "light"
          },
          "paper_bgcolor": "white",
          "plot_bgcolor": "#E5ECF6",
          "polar": {
           "angularaxis": {
            "gridcolor": "white",
            "linecolor": "white",
            "ticks": ""
           },
           "bgcolor": "#E5ECF6",
           "radialaxis": {
            "gridcolor": "white",
            "linecolor": "white",
            "ticks": ""
           }
          },
          "scene": {
           "xaxis": {
            "backgroundcolor": "#E5ECF6",
            "gridcolor": "white",
            "gridwidth": 2,
            "linecolor": "white",
            "showbackground": true,
            "ticks": "",
            "zerolinecolor": "white"
           },
           "yaxis": {
            "backgroundcolor": "#E5ECF6",
            "gridcolor": "white",
            "gridwidth": 2,
            "linecolor": "white",
            "showbackground": true,
            "ticks": "",
            "zerolinecolor": "white"
           },
           "zaxis": {
            "backgroundcolor": "#E5ECF6",
            "gridcolor": "white",
            "gridwidth": 2,
            "linecolor": "white",
            "showbackground": true,
            "ticks": "",
            "zerolinecolor": "white"
           }
          },
          "shapedefaults": {
           "line": {
            "color": "#2a3f5f"
           }
          },
          "ternary": {
           "aaxis": {
            "gridcolor": "white",
            "linecolor": "white",
            "ticks": ""
           },
           "baxis": {
            "gridcolor": "white",
            "linecolor": "white",
            "ticks": ""
           },
           "bgcolor": "#E5ECF6",
           "caxis": {
            "gridcolor": "white",
            "linecolor": "white",
            "ticks": ""
           }
          },
          "title": {
           "x": 0.05
          },
          "xaxis": {
           "automargin": true,
           "gridcolor": "white",
           "linecolor": "white",
           "ticks": "",
           "title": {
            "standoff": 15
           },
           "zerolinecolor": "white",
           "zerolinewidth": 2
          },
          "yaxis": {
           "automargin": true,
           "gridcolor": "white",
           "linecolor": "white",
           "ticks": "",
           "title": {
            "standoff": 15
           },
           "zerolinecolor": "white",
           "zerolinewidth": 2
          }
         }
        },
        "title": {
         "font": {
          "family": "Times New Roman"
         },
         "text": "Annual Income Share from 1913-2019",
         "x": 0.5,
         "xanchor": "center",
         "y": 0.9,
         "yanchor": "top"
        },
        "width": 900,
        "xaxis": {
         "anchor": "y",
         "domain": [
          0,
          1
         ],
         "title": {
          "text": "Year"
         }
        },
        "yaxis": {
         "anchor": "x",
         "domain": [
          0,
          1
         ],
         "range": [
          0,
          1
         ],
         "tickformat": "%",
         "title": {
          "text": "Percent income share"
         }
        }
       }
      }
     },
     "metadata": {}
    }
   ],
   "source": [
    "fig2 = make_subplots()\n",
    "n_title = \"Annual Income Share from 1913-2019\"\n",
    "\n",
    "for col in nw_cols:\n",
    "    fig2.add_trace(go.Scatter(x = Income_Share_df['Year'],\n",
    "                             y = Income_Share_df[col],\n",
    "                             name = col,\n",
    "                             stackgroup='one')\n",
    "    )\n",
    "    \n",
    "fig2.update_yaxes(tickformat='%', title_text=\"Percent income share\", range = [0,1])\n",
    "\n",
    "fig2.update_xaxes(title_text=\"Year\")\n",
    "\n",
    "fig2.update_layout(\n",
    "    font_family=\"Times New Roman\",\n",
    "    title_font_family=\"Times New Roman\",\n",
    "    height=500, width=900,\n",
    "    title={\n",
    "        'text': n_title,\n",
    "        'y':0.9,\n",
    "        'x':0.5,\n",
    "        'xanchor': 'center',\n",
    "        'yanchor': 'top'}\n",
    ")\n",
    "\n",
    "fig2.show()"
   ]
  },
  {
   "cell_type": "code",
   "execution_count": 25,
   "metadata": {},
   "outputs": [],
   "source": [
    "save_text = \"{}.png\".format(n_title)\n",
    "fig2.write_image(save_text)"
   ]
  },
  {
   "cell_type": "code",
   "execution_count": null,
   "metadata": {},
   "outputs": [],
   "source": []
  }
 ]
}