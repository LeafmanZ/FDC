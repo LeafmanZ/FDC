{
 "cells": [
  {
   "cell_type": "code",
   "execution_count": 1,
   "metadata": {},
   "outputs": [
    {
     "name": "stdout",
     "output_type": "stream",
     "text": [
      "Working in: /home/rentfree/Documents/FIRE and Inequality/Contributors to GDP\n"
     ]
    }
   ],
   "source": [
    "# Get data from working directory\n",
    "import os\n",
    "\n",
    "base_dir = os.getcwd()\n",
    "print('Working in:', base_dir)\n",
    "\n",
    "ERP_GDP_Industry = os.path.join(base_dir, 'ERP_GDP_INDUSTRY.ods')"
   ]
  },
  {
   "cell_type": "code",
   "execution_count": 2,
   "metadata": {},
   "outputs": [
    {
     "data": {
      "text/html": [
       "<div>\n",
       "<style scoped>\n",
       "    .dataframe tbody tr th:only-of-type {\n",
       "        vertical-align: middle;\n",
       "    }\n",
       "\n",
       "    .dataframe tbody tr th {\n",
       "        vertical-align: top;\n",
       "    }\n",
       "\n",
       "    .dataframe thead th {\n",
       "        text-align: right;\n",
       "    }\n",
       "</style>\n",
       "<table border=\"1\" class=\"dataframe\">\n",
       "  <thead>\n",
       "    <tr style=\"text-align: right;\">\n",
       "      <th></th>\n",
       "      <th>YEAR</th>\n",
       "      <th>GDP</th>\n",
       "      <th>TOTAL PRIVATE INDUSTRIES</th>\n",
       "      <th>AGRICULTURE, FORESTRY, FISHING, AND HUNTING</th>\n",
       "      <th>MINING</th>\n",
       "      <th>CONSTRUCTION</th>\n",
       "      <th>MANUFACTURING</th>\n",
       "      <th>UTILITIES</th>\n",
       "      <th>WHOLESALE TRADE</th>\n",
       "      <th>RETAIL TRADE</th>\n",
       "      <th>TRANSPORTATION AND WAREHOUSING</th>\n",
       "      <th>INFORMATION</th>\n",
       "      <th>FINANCE, INSURANCE, REAL ESTATE, RENTAL, AND LEASING</th>\n",
       "      <th>PROFESSIONAL AND BUSINESS SERVICES</th>\n",
       "      <th>EDUCATIONAL SERVICES, HEALTH CARE, AND SOCIAL ASSISTANCE</th>\n",
       "      <th>ARTS, ENTERTAINMENT, RECREATION, ACCOMMODATION, AND FOOD SERVICES</th>\n",
       "      <th>OTHER SERVICES, EXCEPT GOVERNMENT</th>\n",
       "      <th>GOVERNMENT</th>\n",
       "      <th>PRIVATE GOODS PRODUCING INDUSTRIES</th>\n",
       "      <th>PRIVATE SERVICES PRODUCING INDUSTRIES</th>\n",
       "    </tr>\n",
       "  </thead>\n",
       "  <tbody>\n",
       "    <tr>\n",
       "      <th>0</th>\n",
       "      <td>1974</td>\n",
       "      <td>1500.0</td>\n",
       "      <td>1277.3</td>\n",
       "      <td>50.1</td>\n",
       "      <td>29.3</td>\n",
       "      <td>74.0</td>\n",
       "      <td>318.2</td>\n",
       "      <td>29.2</td>\n",
       "      <td>104.7</td>\n",
       "      <td>113.4</td>\n",
       "      <td>58.5</td>\n",
       "      <td>50.9</td>\n",
       "      <td>223.3</td>\n",
       "      <td>84.6</td>\n",
       "      <td>64.3</td>\n",
       "      <td>40.9</td>\n",
       "      <td>35.8</td>\n",
       "      <td>222.6</td>\n",
       "      <td>471.7</td>\n",
       "      <td>805.6</td>\n",
       "    </tr>\n",
       "    <tr>\n",
       "      <th>1</th>\n",
       "      <td>1975</td>\n",
       "      <td>1638.3</td>\n",
       "      <td>1391.5</td>\n",
       "      <td>51.4</td>\n",
       "      <td>33.8</td>\n",
       "      <td>74.8</td>\n",
       "      <td>337.1</td>\n",
       "      <td>37.1</td>\n",
       "      <td>114.6</td>\n",
       "      <td>127.3</td>\n",
       "      <td>59.4</td>\n",
       "      <td>56.5</td>\n",
       "      <td>248.2</td>\n",
       "      <td>92.9</td>\n",
       "      <td>74.2</td>\n",
       "      <td>45.7</td>\n",
       "      <td>38.4</td>\n",
       "      <td>246.9</td>\n",
       "      <td>497.2</td>\n",
       "      <td>894.3</td>\n",
       "    </tr>\n",
       "    <tr>\n",
       "      <th>2</th>\n",
       "      <td>1976</td>\n",
       "      <td>1825.3</td>\n",
       "      <td>1556.2</td>\n",
       "      <td>50.2</td>\n",
       "      <td>37.5</td>\n",
       "      <td>85.5</td>\n",
       "      <td>386.7</td>\n",
       "      <td>41.5</td>\n",
       "      <td>122.7</td>\n",
       "      <td>144.0</td>\n",
       "      <td>68.8</td>\n",
       "      <td>63.5</td>\n",
       "      <td>272.1</td>\n",
       "      <td>105.1</td>\n",
       "      <td>84.0</td>\n",
       "      <td>51.9</td>\n",
       "      <td>42.8</td>\n",
       "      <td>269.1</td>\n",
       "      <td>559.8</td>\n",
       "      <td>996.4</td>\n",
       "    </tr>\n",
       "    <tr>\n",
       "      <th>3</th>\n",
       "      <td>1977</td>\n",
       "      <td>2030.9</td>\n",
       "      <td>1739.4</td>\n",
       "      <td>51.3</td>\n",
       "      <td>43.4</td>\n",
       "      <td>94.2</td>\n",
       "      <td>438.6</td>\n",
       "      <td>45.9</td>\n",
       "      <td>134.9</td>\n",
       "      <td>158.5</td>\n",
       "      <td>76.2</td>\n",
       "      <td>71.1</td>\n",
       "      <td>304.0</td>\n",
       "      <td>122.7</td>\n",
       "      <td>93.8</td>\n",
       "      <td>58.8</td>\n",
       "      <td>46.1</td>\n",
       "      <td>291.5</td>\n",
       "      <td>627.5</td>\n",
       "      <td>1111.9</td>\n",
       "    </tr>\n",
       "    <tr>\n",
       "      <th>4</th>\n",
       "      <td>1978</td>\n",
       "      <td>2294.7</td>\n",
       "      <td>1977.0</td>\n",
       "      <td>59.8</td>\n",
       "      <td>49.5</td>\n",
       "      <td>111.5</td>\n",
       "      <td>489.9</td>\n",
       "      <td>50.4</td>\n",
       "      <td>153.4</td>\n",
       "      <td>177.6</td>\n",
       "      <td>86.7</td>\n",
       "      <td>81.4</td>\n",
       "      <td>347.4</td>\n",
       "      <td>141.9</td>\n",
       "      <td>106.4</td>\n",
       "      <td>67.9</td>\n",
       "      <td>53.2</td>\n",
       "      <td>317.7</td>\n",
       "      <td>710.6</td>\n",
       "      <td>1266.4</td>\n",
       "    </tr>\n",
       "  </tbody>\n",
       "</table>\n",
       "</div>"
      ],
      "text/plain": [
       "   YEAR     GDP  TOTAL PRIVATE INDUSTRIES  \\\n",
       "0  1974  1500.0                    1277.3   \n",
       "1  1975  1638.3                    1391.5   \n",
       "2  1976  1825.3                    1556.2   \n",
       "3  1977  2030.9                    1739.4   \n",
       "4  1978  2294.7                    1977.0   \n",
       "\n",
       "   AGRICULTURE, FORESTRY, FISHING, AND HUNTING  MINING  CONSTRUCTION  \\\n",
       "0                                         50.1    29.3          74.0   \n",
       "1                                         51.4    33.8          74.8   \n",
       "2                                         50.2    37.5          85.5   \n",
       "3                                         51.3    43.4          94.2   \n",
       "4                                         59.8    49.5         111.5   \n",
       "\n",
       "   MANUFACTURING  UTILITIES  WHOLESALE TRADE  RETAIL TRADE  \\\n",
       "0          318.2       29.2            104.7         113.4   \n",
       "1          337.1       37.1            114.6         127.3   \n",
       "2          386.7       41.5            122.7         144.0   \n",
       "3          438.6       45.9            134.9         158.5   \n",
       "4          489.9       50.4            153.4         177.6   \n",
       "\n",
       "   TRANSPORTATION AND WAREHOUSING  INFORMATION  \\\n",
       "0                            58.5         50.9   \n",
       "1                            59.4         56.5   \n",
       "2                            68.8         63.5   \n",
       "3                            76.2         71.1   \n",
       "4                            86.7         81.4   \n",
       "\n",
       "   FINANCE, INSURANCE, REAL ESTATE, RENTAL, AND LEASING  \\\n",
       "0                                              223.3      \n",
       "1                                              248.2      \n",
       "2                                              272.1      \n",
       "3                                              304.0      \n",
       "4                                              347.4      \n",
       "\n",
       "   PROFESSIONAL AND BUSINESS SERVICES  \\\n",
       "0                                84.6   \n",
       "1                                92.9   \n",
       "2                               105.1   \n",
       "3                               122.7   \n",
       "4                               141.9   \n",
       "\n",
       "   EDUCATIONAL SERVICES, HEALTH CARE, AND SOCIAL ASSISTANCE  \\\n",
       "0                                               64.3          \n",
       "1                                               74.2          \n",
       "2                                               84.0          \n",
       "3                                               93.8          \n",
       "4                                              106.4          \n",
       "\n",
       "   ARTS, ENTERTAINMENT, RECREATION, ACCOMMODATION, AND FOOD SERVICES  \\\n",
       "0                                               40.9                   \n",
       "1                                               45.7                   \n",
       "2                                               51.9                   \n",
       "3                                               58.8                   \n",
       "4                                               67.9                   \n",
       "\n",
       "   OTHER SERVICES, EXCEPT GOVERNMENT  GOVERNMENT  \\\n",
       "0                               35.8       222.6   \n",
       "1                               38.4       246.9   \n",
       "2                               42.8       269.1   \n",
       "3                               46.1       291.5   \n",
       "4                               53.2       317.7   \n",
       "\n",
       "   PRIVATE GOODS PRODUCING INDUSTRIES  PRIVATE SERVICES PRODUCING INDUSTRIES  \n",
       "0                               471.7                                  805.6  \n",
       "1                               497.2                                  894.3  \n",
       "2                               559.8                                  996.4  \n",
       "3                               627.5                                 1111.9  \n",
       "4                               710.6                                 1266.4  "
      ]
     },
     "execution_count": 2,
     "metadata": {},
     "output_type": "execute_result"
    }
   ],
   "source": [
    "# Move data into dataframe\n",
    "import pandas as pd\n",
    "\n",
    "# Data is GDP by Industry\n",
    "# Scraped from Economic Report of the President using\n",
    "# 2021 Table B-8 \"Used years 1997-2019\" https://www.govinfo.gov/app/collection/erp/2021\n",
    "# 2006 Table B-12 \"Used years 1974-1996\" https://www.govinfo.gov/app/collection/erp/2006\n",
    "# Since inflation adjusted calculations dont exactly match up in overlapping years we have a data integrity issue\n",
    "# This will be eliminated when we simply turn each industrys product into a percentage of total GDP for each year\n",
    "gdpi_df = pd.read_excel(ERP_GDP_Industry)\n",
    "\n",
    "gdpi_df.head()"
   ]
  },
  {
   "cell_type": "code",
   "execution_count": 3,
   "metadata": {},
   "outputs": [
    {
     "data": {
      "text/html": [
       "<div>\n",
       "<style scoped>\n",
       "    .dataframe tbody tr th:only-of-type {\n",
       "        vertical-align: middle;\n",
       "    }\n",
       "\n",
       "    .dataframe tbody tr th {\n",
       "        vertical-align: top;\n",
       "    }\n",
       "\n",
       "    .dataframe thead th {\n",
       "        text-align: right;\n",
       "    }\n",
       "</style>\n",
       "<table border=\"1\" class=\"dataframe\">\n",
       "  <thead>\n",
       "    <tr style=\"text-align: right;\">\n",
       "      <th></th>\n",
       "      <th>YEAR</th>\n",
       "      <th>GDP</th>\n",
       "      <th>TOTAL PRIVATE INDUSTRIES</th>\n",
       "      <th>AGRICULTURE, FORESTRY, FISHING, AND HUNTING</th>\n",
       "      <th>MINING</th>\n",
       "      <th>CONSTRUCTION</th>\n",
       "      <th>MANUFACTURING</th>\n",
       "      <th>UTILITIES</th>\n",
       "      <th>WHOLESALE TRADE</th>\n",
       "      <th>RETAIL TRADE</th>\n",
       "      <th>...</th>\n",
       "      <th>INFORMATION</th>\n",
       "      <th>FINANCE, INSURANCE, REAL ESTATE, RENTAL, AND LEASING</th>\n",
       "      <th>PROFESSIONAL AND BUSINESS SERVICES</th>\n",
       "      <th>EDUCATIONAL SERVICES, HEALTH CARE, AND SOCIAL ASSISTANCE</th>\n",
       "      <th>ARTS, ENTERTAINMENT, RECREATION, ACCOMMODATION, AND FOOD SERVICES</th>\n",
       "      <th>OTHER SERVICES, EXCEPT GOVERNMENT</th>\n",
       "      <th>GOVERNMENT</th>\n",
       "      <th>PRIVATE GOODS PRODUCING INDUSTRIES</th>\n",
       "      <th>PRIVATE SERVICES PRODUCING INDUSTRIES</th>\n",
       "      <th>GDP - FIRE</th>\n",
       "    </tr>\n",
       "  </thead>\n",
       "  <tbody>\n",
       "    <tr>\n",
       "      <th>0</th>\n",
       "      <td>1974</td>\n",
       "      <td>1500.0</td>\n",
       "      <td>1277.3</td>\n",
       "      <td>50.1</td>\n",
       "      <td>29.3</td>\n",
       "      <td>74.0</td>\n",
       "      <td>318.2</td>\n",
       "      <td>29.2</td>\n",
       "      <td>104.7</td>\n",
       "      <td>113.4</td>\n",
       "      <td>...</td>\n",
       "      <td>50.9</td>\n",
       "      <td>223.3</td>\n",
       "      <td>84.6</td>\n",
       "      <td>64.3</td>\n",
       "      <td>40.9</td>\n",
       "      <td>35.8</td>\n",
       "      <td>222.6</td>\n",
       "      <td>471.7</td>\n",
       "      <td>805.6</td>\n",
       "      <td>1276.7</td>\n",
       "    </tr>\n",
       "    <tr>\n",
       "      <th>1</th>\n",
       "      <td>1975</td>\n",
       "      <td>1638.3</td>\n",
       "      <td>1391.5</td>\n",
       "      <td>51.4</td>\n",
       "      <td>33.8</td>\n",
       "      <td>74.8</td>\n",
       "      <td>337.1</td>\n",
       "      <td>37.1</td>\n",
       "      <td>114.6</td>\n",
       "      <td>127.3</td>\n",
       "      <td>...</td>\n",
       "      <td>56.5</td>\n",
       "      <td>248.2</td>\n",
       "      <td>92.9</td>\n",
       "      <td>74.2</td>\n",
       "      <td>45.7</td>\n",
       "      <td>38.4</td>\n",
       "      <td>246.9</td>\n",
       "      <td>497.2</td>\n",
       "      <td>894.3</td>\n",
       "      <td>1390.1</td>\n",
       "    </tr>\n",
       "    <tr>\n",
       "      <th>2</th>\n",
       "      <td>1976</td>\n",
       "      <td>1825.3</td>\n",
       "      <td>1556.2</td>\n",
       "      <td>50.2</td>\n",
       "      <td>37.5</td>\n",
       "      <td>85.5</td>\n",
       "      <td>386.7</td>\n",
       "      <td>41.5</td>\n",
       "      <td>122.7</td>\n",
       "      <td>144.0</td>\n",
       "      <td>...</td>\n",
       "      <td>63.5</td>\n",
       "      <td>272.1</td>\n",
       "      <td>105.1</td>\n",
       "      <td>84.0</td>\n",
       "      <td>51.9</td>\n",
       "      <td>42.8</td>\n",
       "      <td>269.1</td>\n",
       "      <td>559.8</td>\n",
       "      <td>996.4</td>\n",
       "      <td>1553.2</td>\n",
       "    </tr>\n",
       "    <tr>\n",
       "      <th>3</th>\n",
       "      <td>1977</td>\n",
       "      <td>2030.9</td>\n",
       "      <td>1739.4</td>\n",
       "      <td>51.3</td>\n",
       "      <td>43.4</td>\n",
       "      <td>94.2</td>\n",
       "      <td>438.6</td>\n",
       "      <td>45.9</td>\n",
       "      <td>134.9</td>\n",
       "      <td>158.5</td>\n",
       "      <td>...</td>\n",
       "      <td>71.1</td>\n",
       "      <td>304.0</td>\n",
       "      <td>122.7</td>\n",
       "      <td>93.8</td>\n",
       "      <td>58.8</td>\n",
       "      <td>46.1</td>\n",
       "      <td>291.5</td>\n",
       "      <td>627.5</td>\n",
       "      <td>1111.9</td>\n",
       "      <td>1726.9</td>\n",
       "    </tr>\n",
       "    <tr>\n",
       "      <th>4</th>\n",
       "      <td>1978</td>\n",
       "      <td>2294.7</td>\n",
       "      <td>1977.0</td>\n",
       "      <td>59.8</td>\n",
       "      <td>49.5</td>\n",
       "      <td>111.5</td>\n",
       "      <td>489.9</td>\n",
       "      <td>50.4</td>\n",
       "      <td>153.4</td>\n",
       "      <td>177.6</td>\n",
       "      <td>...</td>\n",
       "      <td>81.4</td>\n",
       "      <td>347.4</td>\n",
       "      <td>141.9</td>\n",
       "      <td>106.4</td>\n",
       "      <td>67.9</td>\n",
       "      <td>53.2</td>\n",
       "      <td>317.7</td>\n",
       "      <td>710.6</td>\n",
       "      <td>1266.4</td>\n",
       "      <td>1947.3</td>\n",
       "    </tr>\n",
       "  </tbody>\n",
       "</table>\n",
       "<p>5 rows × 21 columns</p>\n",
       "</div>"
      ],
      "text/plain": [
       "   YEAR     GDP  TOTAL PRIVATE INDUSTRIES  \\\n",
       "0  1974  1500.0                    1277.3   \n",
       "1  1975  1638.3                    1391.5   \n",
       "2  1976  1825.3                    1556.2   \n",
       "3  1977  2030.9                    1739.4   \n",
       "4  1978  2294.7                    1977.0   \n",
       "\n",
       "   AGRICULTURE, FORESTRY, FISHING, AND HUNTING  MINING  CONSTRUCTION  \\\n",
       "0                                         50.1    29.3          74.0   \n",
       "1                                         51.4    33.8          74.8   \n",
       "2                                         50.2    37.5          85.5   \n",
       "3                                         51.3    43.4          94.2   \n",
       "4                                         59.8    49.5         111.5   \n",
       "\n",
       "   MANUFACTURING  UTILITIES  WHOLESALE TRADE  RETAIL TRADE  ...  INFORMATION  \\\n",
       "0          318.2       29.2            104.7         113.4  ...         50.9   \n",
       "1          337.1       37.1            114.6         127.3  ...         56.5   \n",
       "2          386.7       41.5            122.7         144.0  ...         63.5   \n",
       "3          438.6       45.9            134.9         158.5  ...         71.1   \n",
       "4          489.9       50.4            153.4         177.6  ...         81.4   \n",
       "\n",
       "   FINANCE, INSURANCE, REAL ESTATE, RENTAL, AND LEASING  \\\n",
       "0                                              223.3      \n",
       "1                                              248.2      \n",
       "2                                              272.1      \n",
       "3                                              304.0      \n",
       "4                                              347.4      \n",
       "\n",
       "   PROFESSIONAL AND BUSINESS SERVICES  \\\n",
       "0                                84.6   \n",
       "1                                92.9   \n",
       "2                               105.1   \n",
       "3                               122.7   \n",
       "4                               141.9   \n",
       "\n",
       "   EDUCATIONAL SERVICES, HEALTH CARE, AND SOCIAL ASSISTANCE  \\\n",
       "0                                               64.3          \n",
       "1                                               74.2          \n",
       "2                                               84.0          \n",
       "3                                               93.8          \n",
       "4                                              106.4          \n",
       "\n",
       "   ARTS, ENTERTAINMENT, RECREATION, ACCOMMODATION, AND FOOD SERVICES  \\\n",
       "0                                               40.9                   \n",
       "1                                               45.7                   \n",
       "2                                               51.9                   \n",
       "3                                               58.8                   \n",
       "4                                               67.9                   \n",
       "\n",
       "   OTHER SERVICES, EXCEPT GOVERNMENT  GOVERNMENT  \\\n",
       "0                               35.8       222.6   \n",
       "1                               38.4       246.9   \n",
       "2                               42.8       269.1   \n",
       "3                               46.1       291.5   \n",
       "4                               53.2       317.7   \n",
       "\n",
       "   PRIVATE GOODS PRODUCING INDUSTRIES  PRIVATE SERVICES PRODUCING INDUSTRIES  \\\n",
       "0                               471.7                                  805.6   \n",
       "1                               497.2                                  894.3   \n",
       "2                               559.8                                  996.4   \n",
       "3                               627.5                                 1111.9   \n",
       "4                               710.6                                 1266.4   \n",
       "\n",
       "   GDP - FIRE  \n",
       "0      1276.7  \n",
       "1      1390.1  \n",
       "2      1553.2  \n",
       "3      1726.9  \n",
       "4      1947.3  \n",
       "\n",
       "[5 rows x 21 columns]"
      ]
     },
     "execution_count": 3,
     "metadata": {},
     "output_type": "execute_result"
    }
   ],
   "source": [
    "gdpie_df = gdpi_df.copy()\n",
    "gdpie_df[\"GDP - FIRE\"] = gdpi_df['GDP']-gdpi_df['FINANCE, INSURANCE, REAL ESTATE, RENTAL, AND LEASING']\n",
    "gdpie_df.head()\n",
    "\n"
   ]
  },
  {
   "cell_type": "code",
   "execution_count": 4,
   "metadata": {},
   "outputs": [],
   "source": [
    "# Get all the columns in the dataframe\n",
    "index = []\n",
    "\n",
    "for col in gdpi_df.columns:\n",
    "    index.append(col)\n",
    "    \n",
    "index.remove('YEAR')"
   ]
  },
  {
   "cell_type": "code",
   "execution_count": 5,
   "metadata": {},
   "outputs": [
    {
     "data": {
      "text/html": [
       "<div>\n",
       "<style scoped>\n",
       "    .dataframe tbody tr th:only-of-type {\n",
       "        vertical-align: middle;\n",
       "    }\n",
       "\n",
       "    .dataframe tbody tr th {\n",
       "        vertical-align: top;\n",
       "    }\n",
       "\n",
       "    .dataframe thead th {\n",
       "        text-align: right;\n",
       "    }\n",
       "</style>\n",
       "<table border=\"1\" class=\"dataframe\">\n",
       "  <thead>\n",
       "    <tr style=\"text-align: right;\">\n",
       "      <th></th>\n",
       "      <th>YEAR</th>\n",
       "      <th>GDP</th>\n",
       "      <th>TOTAL PRIVATE INDUSTRIES</th>\n",
       "      <th>AGRICULTURE, FORESTRY, FISHING, AND HUNTING</th>\n",
       "      <th>MINING</th>\n",
       "      <th>CONSTRUCTION</th>\n",
       "      <th>MANUFACTURING</th>\n",
       "      <th>UTILITIES</th>\n",
       "      <th>WHOLESALE TRADE</th>\n",
       "      <th>RETAIL TRADE</th>\n",
       "      <th>TRANSPORTATION AND WAREHOUSING</th>\n",
       "      <th>INFORMATION</th>\n",
       "      <th>FINANCE, INSURANCE, REAL ESTATE, RENTAL, AND LEASING</th>\n",
       "      <th>PROFESSIONAL AND BUSINESS SERVICES</th>\n",
       "      <th>EDUCATIONAL SERVICES, HEALTH CARE, AND SOCIAL ASSISTANCE</th>\n",
       "      <th>ARTS, ENTERTAINMENT, RECREATION, ACCOMMODATION, AND FOOD SERVICES</th>\n",
       "      <th>OTHER SERVICES, EXCEPT GOVERNMENT</th>\n",
       "      <th>GOVERNMENT</th>\n",
       "      <th>PRIVATE GOODS PRODUCING INDUSTRIES</th>\n",
       "      <th>PRIVATE SERVICES PRODUCING INDUSTRIES</th>\n",
       "    </tr>\n",
       "  </thead>\n",
       "  <tbody>\n",
       "    <tr>\n",
       "      <th>41</th>\n",
       "      <td>2015</td>\n",
       "      <td>1.0</td>\n",
       "      <td>0.871731</td>\n",
       "      <td>0.009995</td>\n",
       "      <td>0.014354</td>\n",
       "      <td>0.038101</td>\n",
       "      <td>0.116765</td>\n",
       "      <td>0.016405</td>\n",
       "      <td>0.062665</td>\n",
       "      <td>0.055932</td>\n",
       "      <td>0.031023</td>\n",
       "      <td>0.049725</td>\n",
       "      <td>0.205556</td>\n",
       "      <td>0.122648</td>\n",
       "      <td>0.086137</td>\n",
       "      <td>0.040947</td>\n",
       "      <td>0.021471</td>\n",
       "      <td>0.128269</td>\n",
       "      <td>0.179216</td>\n",
       "      <td>0.692515</td>\n",
       "    </tr>\n",
       "    <tr>\n",
       "      <th>42</th>\n",
       "      <td>2016</td>\n",
       "      <td>1.0</td>\n",
       "      <td>0.872772</td>\n",
       "      <td>0.008888</td>\n",
       "      <td>0.011630</td>\n",
       "      <td>0.039845</td>\n",
       "      <td>0.112013</td>\n",
       "      <td>0.016095</td>\n",
       "      <td>0.060474</td>\n",
       "      <td>0.056164</td>\n",
       "      <td>0.031048</td>\n",
       "      <td>0.051662</td>\n",
       "      <td>0.210508</td>\n",
       "      <td>0.122928</td>\n",
       "      <td>0.088130</td>\n",
       "      <td>0.042048</td>\n",
       "      <td>0.021334</td>\n",
       "      <td>0.127228</td>\n",
       "      <td>0.172376</td>\n",
       "      <td>0.700396</td>\n",
       "    </tr>\n",
       "    <tr>\n",
       "      <th>43</th>\n",
       "      <td>2017</td>\n",
       "      <td>1.0</td>\n",
       "      <td>0.874697</td>\n",
       "      <td>0.009036</td>\n",
       "      <td>0.014020</td>\n",
       "      <td>0.040823</td>\n",
       "      <td>0.111672</td>\n",
       "      <td>0.015868</td>\n",
       "      <td>0.059535</td>\n",
       "      <td>0.055442</td>\n",
       "      <td>0.031060</td>\n",
       "      <td>0.051446</td>\n",
       "      <td>0.210653</td>\n",
       "      <td>0.124392</td>\n",
       "      <td>0.087356</td>\n",
       "      <td>0.042189</td>\n",
       "      <td>0.021199</td>\n",
       "      <td>0.125298</td>\n",
       "      <td>0.175556</td>\n",
       "      <td>0.699145</td>\n",
       "    </tr>\n",
       "    <tr>\n",
       "      <th>44</th>\n",
       "      <td>2018</td>\n",
       "      <td>1.0</td>\n",
       "      <td>0.876300</td>\n",
       "      <td>0.008665</td>\n",
       "      <td>0.016049</td>\n",
       "      <td>0.041151</td>\n",
       "      <td>0.112285</td>\n",
       "      <td>0.015612</td>\n",
       "      <td>0.058748</td>\n",
       "      <td>0.054134</td>\n",
       "      <td>0.031569</td>\n",
       "      <td>0.051417</td>\n",
       "      <td>0.212106</td>\n",
       "      <td>0.124821</td>\n",
       "      <td>0.086450</td>\n",
       "      <td>0.042049</td>\n",
       "      <td>0.021245</td>\n",
       "      <td>0.123700</td>\n",
       "      <td>0.178145</td>\n",
       "      <td>0.698155</td>\n",
       "    </tr>\n",
       "    <tr>\n",
       "      <th>45</th>\n",
       "      <td>2019</td>\n",
       "      <td>1.0</td>\n",
       "      <td>0.876855</td>\n",
       "      <td>0.008184</td>\n",
       "      <td>0.014440</td>\n",
       "      <td>0.041650</td>\n",
       "      <td>0.109447</td>\n",
       "      <td>0.015644</td>\n",
       "      <td>0.058895</td>\n",
       "      <td>0.054224</td>\n",
       "      <td>0.032506</td>\n",
       "      <td>0.052605</td>\n",
       "      <td>0.211905</td>\n",
       "      <td>0.126472</td>\n",
       "      <td>0.087033</td>\n",
       "      <td>0.042327</td>\n",
       "      <td>0.021523</td>\n",
       "      <td>0.123150</td>\n",
       "      <td>0.173721</td>\n",
       "      <td>0.703133</td>\n",
       "    </tr>\n",
       "  </tbody>\n",
       "</table>\n",
       "</div>"
      ],
      "text/plain": [
       "    YEAR  GDP  TOTAL PRIVATE INDUSTRIES  \\\n",
       "41  2015  1.0                  0.871731   \n",
       "42  2016  1.0                  0.872772   \n",
       "43  2017  1.0                  0.874697   \n",
       "44  2018  1.0                  0.876300   \n",
       "45  2019  1.0                  0.876855   \n",
       "\n",
       "    AGRICULTURE, FORESTRY, FISHING, AND HUNTING    MINING  CONSTRUCTION  \\\n",
       "41                                     0.009995  0.014354      0.038101   \n",
       "42                                     0.008888  0.011630      0.039845   \n",
       "43                                     0.009036  0.014020      0.040823   \n",
       "44                                     0.008665  0.016049      0.041151   \n",
       "45                                     0.008184  0.014440      0.041650   \n",
       "\n",
       "    MANUFACTURING  UTILITIES  WHOLESALE TRADE  RETAIL TRADE  \\\n",
       "41       0.116765   0.016405         0.062665      0.055932   \n",
       "42       0.112013   0.016095         0.060474      0.056164   \n",
       "43       0.111672   0.015868         0.059535      0.055442   \n",
       "44       0.112285   0.015612         0.058748      0.054134   \n",
       "45       0.109447   0.015644         0.058895      0.054224   \n",
       "\n",
       "    TRANSPORTATION AND WAREHOUSING  INFORMATION  \\\n",
       "41                        0.031023     0.049725   \n",
       "42                        0.031048     0.051662   \n",
       "43                        0.031060     0.051446   \n",
       "44                        0.031569     0.051417   \n",
       "45                        0.032506     0.052605   \n",
       "\n",
       "    FINANCE, INSURANCE, REAL ESTATE, RENTAL, AND LEASING  \\\n",
       "41                                           0.205556      \n",
       "42                                           0.210508      \n",
       "43                                           0.210653      \n",
       "44                                           0.212106      \n",
       "45                                           0.211905      \n",
       "\n",
       "    PROFESSIONAL AND BUSINESS SERVICES  \\\n",
       "41                            0.122648   \n",
       "42                            0.122928   \n",
       "43                            0.124392   \n",
       "44                            0.124821   \n",
       "45                            0.126472   \n",
       "\n",
       "    EDUCATIONAL SERVICES, HEALTH CARE, AND SOCIAL ASSISTANCE  \\\n",
       "41                                           0.086137          \n",
       "42                                           0.088130          \n",
       "43                                           0.087356          \n",
       "44                                           0.086450          \n",
       "45                                           0.087033          \n",
       "\n",
       "    ARTS, ENTERTAINMENT, RECREATION, ACCOMMODATION, AND FOOD SERVICES  \\\n",
       "41                                           0.040947                   \n",
       "42                                           0.042048                   \n",
       "43                                           0.042189                   \n",
       "44                                           0.042049                   \n",
       "45                                           0.042327                   \n",
       "\n",
       "    OTHER SERVICES, EXCEPT GOVERNMENT  GOVERNMENT  \\\n",
       "41                           0.021471    0.128269   \n",
       "42                           0.021334    0.127228   \n",
       "43                           0.021199    0.125298   \n",
       "44                           0.021245    0.123700   \n",
       "45                           0.021523    0.123150   \n",
       "\n",
       "    PRIVATE GOODS PRODUCING INDUSTRIES  PRIVATE SERVICES PRODUCING INDUSTRIES  \n",
       "41                            0.179216                               0.692515  \n",
       "42                            0.172376                               0.700396  \n",
       "43                            0.175556                               0.699145  \n",
       "44                            0.178145                               0.698155  \n",
       "45                            0.173721                               0.703133  "
      ]
     },
     "execution_count": 5,
     "metadata": {},
     "output_type": "execute_result"
    }
   ],
   "source": [
    "# Make a copy of the data and turn the industry product into percentages of GDP\n",
    "gdpir_df = gdpi_df.copy()\n",
    "\n",
    "for i in index:\n",
    "    gdpir_df[i] = gdpir_df[i]/gdpi_df['GDP']\n",
    "      \n",
    "gdpir_df.tail()"
   ]
  },
  {
   "cell_type": "code",
   "execution_count": 6,
   "metadata": {},
   "outputs": [
    {
     "data": {
      "text/plain": [
       "['AGRICULTURE, FORESTRY, FISHING, AND HUNTING',\n",
       " 'MINING',\n",
       " 'CONSTRUCTION',\n",
       " 'MANUFACTURING',\n",
       " 'UTILITIES',\n",
       " 'WHOLESALE TRADE',\n",
       " 'RETAIL TRADE',\n",
       " 'TRANSPORTATION AND WAREHOUSING',\n",
       " 'INFORMATION',\n",
       " 'FINANCE, INSURANCE, REAL ESTATE, RENTAL, AND LEASING',\n",
       " 'PROFESSIONAL AND BUSINESS SERVICES',\n",
       " 'EDUCATIONAL SERVICES, HEALTH CARE, AND SOCIAL ASSISTANCE',\n",
       " 'ARTS, ENTERTAINMENT, RECREATION, ACCOMMODATION, AND FOOD SERVICES',\n",
       " 'OTHER SERVICES, EXCEPT GOVERNMENT',\n",
       " 'GOVERNMENT']"
      ]
     },
     "execution_count": 6,
     "metadata": {},
     "output_type": "execute_result"
    }
   ],
   "source": [
    "removal_list = ['GDP', 'TOTAL PRIVATE INDUSTRIES', \n",
    "                'PRIVATE GOODS PRODUCING INDUSTRIES', 'PRIVATE SERVICES PRODUCING INDUSTRIES']\n",
    "\n",
    "for i in removal_list:\n",
    "    index.remove(i)\n",
    "\n",
    "index"
   ]
  },
  {
   "cell_type": "code",
   "execution_count": 7,
   "metadata": {},
   "outputs": [],
   "source": [
    "US_Incomes = os.path.join(base_dir, 'US Mean and Median Income.ods')"
   ]
  },
  {
   "cell_type": "code",
   "execution_count": 8,
   "metadata": {},
   "outputs": [],
   "source": [
    "usi_df = pd.read_excel(US_Incomes)"
   ]
  },
  {
   "cell_type": "code",
   "execution_count": 9,
   "metadata": {},
   "outputs": [
    {
     "data": {
      "text/html": [
       "<div>\n",
       "<style scoped>\n",
       "    .dataframe tbody tr th:only-of-type {\n",
       "        vertical-align: middle;\n",
       "    }\n",
       "\n",
       "    .dataframe tbody tr th {\n",
       "        vertical-align: top;\n",
       "    }\n",
       "\n",
       "    .dataframe thead th {\n",
       "        text-align: right;\n",
       "    }\n",
       "</style>\n",
       "<table border=\"1\" class=\"dataframe\">\n",
       "  <thead>\n",
       "    <tr style=\"text-align: right;\">\n",
       "      <th></th>\n",
       "      <th>YEAR</th>\n",
       "      <th>NUMBER</th>\n",
       "      <th>MEDIAN CURRENT</th>\n",
       "      <th>MEDIAN 2019</th>\n",
       "      <th>MEAN CURRENT</th>\n",
       "      <th>MEAN 2019</th>\n",
       "    </tr>\n",
       "  </thead>\n",
       "  <tbody>\n",
       "    <tr>\n",
       "      <th>0</th>\n",
       "      <td>2019</td>\n",
       "      <td>128451</td>\n",
       "      <td>68703</td>\n",
       "      <td>68703</td>\n",
       "      <td>98088</td>\n",
       "      <td>98088</td>\n",
       "    </tr>\n",
       "    <tr>\n",
       "      <th>1</th>\n",
       "      <td>2018</td>\n",
       "      <td>128579</td>\n",
       "      <td>63179</td>\n",
       "      <td>64324</td>\n",
       "      <td>90021</td>\n",
       "      <td>91652</td>\n",
       "    </tr>\n",
       "    <tr>\n",
       "      <th>2</th>\n",
       "      <td>2017</td>\n",
       "      <td>127586</td>\n",
       "      <td>61372</td>\n",
       "      <td>64007</td>\n",
       "      <td>86220</td>\n",
       "      <td>89922</td>\n",
       "    </tr>\n",
       "    <tr>\n",
       "      <th>3</th>\n",
       "      <td>2016</td>\n",
       "      <td>126224</td>\n",
       "      <td>59039</td>\n",
       "      <td>62898</td>\n",
       "      <td>83143</td>\n",
       "      <td>88578</td>\n",
       "    </tr>\n",
       "    <tr>\n",
       "      <th>4</th>\n",
       "      <td>2015</td>\n",
       "      <td>125819</td>\n",
       "      <td>56516</td>\n",
       "      <td>60987</td>\n",
       "      <td>79263</td>\n",
       "      <td>85533</td>\n",
       "    </tr>\n",
       "  </tbody>\n",
       "</table>\n",
       "</div>"
      ],
      "text/plain": [
       "   YEAR  NUMBER  MEDIAN CURRENT  MEDIAN 2019  MEAN CURRENT  MEAN 2019\n",
       "0  2019  128451           68703        68703         98088      98088\n",
       "1  2018  128579           63179        64324         90021      91652\n",
       "2  2017  127586           61372        64007         86220      89922\n",
       "3  2016  126224           59039        62898         83143      88578\n",
       "4  2015  125819           56516        60987         79263      85533"
      ]
     },
     "execution_count": 9,
     "metadata": {},
     "output_type": "execute_result"
    }
   ],
   "source": [
    "usi_df.head()"
   ]
  },
  {
   "cell_type": "code",
   "execution_count": 10,
   "metadata": {},
   "outputs": [
    {
     "data": {
      "text/html": [
       "<div>\n",
       "<style scoped>\n",
       "    .dataframe tbody tr th:only-of-type {\n",
       "        vertical-align: middle;\n",
       "    }\n",
       "\n",
       "    .dataframe tbody tr th {\n",
       "        vertical-align: top;\n",
       "    }\n",
       "\n",
       "    .dataframe thead th {\n",
       "        text-align: right;\n",
       "    }\n",
       "</style>\n",
       "<table border=\"1\" class=\"dataframe\">\n",
       "  <thead>\n",
       "    <tr style=\"text-align: right;\">\n",
       "      <th></th>\n",
       "      <th>YEAR</th>\n",
       "      <th>NUMBER</th>\n",
       "      <th>MEDIAN CURRENT</th>\n",
       "      <th>MEDIAN 2019</th>\n",
       "      <th>MEAN CURRENT</th>\n",
       "      <th>MEAN 2019</th>\n",
       "    </tr>\n",
       "  </thead>\n",
       "  <tbody>\n",
       "    <tr>\n",
       "      <th>0</th>\n",
       "      <td>1975 (16)</td>\n",
       "      <td>72867</td>\n",
       "      <td>11800</td>\n",
       "      <td>51124</td>\n",
       "      <td>13779</td>\n",
       "      <td>59698</td>\n",
       "    </tr>\n",
       "    <tr>\n",
       "      <th>1</th>\n",
       "      <td>1976 (17)</td>\n",
       "      <td>74142</td>\n",
       "      <td>12686</td>\n",
       "      <td>51973</td>\n",
       "      <td>14922</td>\n",
       "      <td>61133</td>\n",
       "    </tr>\n",
       "    <tr>\n",
       "      <th>2</th>\n",
       "      <td>1977</td>\n",
       "      <td>76030</td>\n",
       "      <td>13572</td>\n",
       "      <td>52302</td>\n",
       "      <td>16100</td>\n",
       "      <td>62044</td>\n",
       "    </tr>\n",
       "    <tr>\n",
       "      <th>3</th>\n",
       "      <td>1978</td>\n",
       "      <td>77330</td>\n",
       "      <td>15064</td>\n",
       "      <td>54326</td>\n",
       "      <td>17730</td>\n",
       "      <td>63940</td>\n",
       "    </tr>\n",
       "    <tr>\n",
       "      <th>4</th>\n",
       "      <td>1979 (18)</td>\n",
       "      <td>80776</td>\n",
       "      <td>16461</td>\n",
       "      <td>54222</td>\n",
       "      <td>19554</td>\n",
       "      <td>64410</td>\n",
       "    </tr>\n",
       "  </tbody>\n",
       "</table>\n",
       "</div>"
      ],
      "text/plain": [
       "        YEAR  NUMBER  MEDIAN CURRENT  MEDIAN 2019  MEAN CURRENT  MEAN 2019\n",
       "0  1975 (16)   72867           11800        51124         13779      59698\n",
       "1  1976 (17)   74142           12686        51973         14922      61133\n",
       "2       1977   76030           13572        52302         16100      62044\n",
       "3       1978   77330           15064        54326         17730      63940\n",
       "4  1979 (18)   80776           16461        54222         19554      64410"
      ]
     },
     "execution_count": 10,
     "metadata": {},
     "output_type": "execute_result"
    }
   ],
   "source": [
    "# We need to reverse the order of the dataframe so that each year is matched with\n",
    "usi_df = usi_df[::-1].reset_index(drop = True)\n",
    "usi_df.head()\n"
   ]
  },
  {
   "cell_type": "code",
   "execution_count": 11,
   "metadata": {},
   "outputs": [],
   "source": [
    "from plotly.subplots import make_subplots\n",
    "import plotly.graph_objects as go"
   ]
  },
  {
   "cell_type": "code",
   "execution_count": 14,
   "metadata": {},
   "outputs": [
    {
     "data": {
      "application/vnd.plotly.v1+json": {
       "config": {
        "plotlyServerURL": "https://plot.ly"
       },
       "data": [
        {
         "name": "GDP",
         "type": "scatter",
         "x": [
          1975,
          1976,
          1977,
          1978,
          1979,
          1980,
          1981,
          1982,
          1983,
          1984,
          1985,
          1986,
          1987,
          1988,
          1989,
          1990,
          1991,
          1992,
          1993,
          1994,
          1995,
          1996,
          1997,
          1998,
          1999,
          2000,
          2001,
          2002,
          2003,
          2004,
          2005,
          2006,
          2007,
          2008,
          2009,
          2010,
          2011,
          2012,
          2013,
          2014,
          2015,
          2016,
          2017,
          2018,
          2019
         ],
         "xaxis": "x",
         "y": [
          1390.1,
          1553.1999999999998,
          1726.9,
          1947.2999999999997,
          2173,
          2347.1,
          2630,
          2715.1,
          2932.1,
          3263,
          3490.6000000000004,
          3667.7000000000003,
          3899.2,
          4193.7,
          4509,
          4761,
          4892.299999999999,
          5160.299999999999,
          5415.9,
          5774.4,
          6014.7,
          6346.2,
          6965.200000000001,
          7352.699999999999,
          7793.6,
          8277.599999999999,
          8453.699999999999,
          8719.4,
          9162.300000000001,
          9824.6,
          10430.400000000001,
          11070.7,
          11603.599999999999,
          11950.099999999999,
          11581.2,
          12049.1,
          12497.3,
          12936,
          13462.100000000002,
          13979.3,
          14489.3,
          14799.099999999999,
          15426.2,
          16240.000000000002,
          16891.4
         ],
         "yaxis": "y"
        },
        {
         "name": "Median household income",
         "type": "scatter",
         "x": [
          1975,
          1976,
          1977,
          1978,
          1979,
          1980,
          1981,
          1982,
          1983,
          1984,
          1985,
          1986,
          1987,
          1988,
          1989,
          1990,
          1991,
          1992,
          1993,
          1994,
          1995,
          1996,
          1997,
          1998,
          1999,
          2000,
          2001,
          2002,
          2003,
          2004,
          2005,
          2006,
          2007,
          2008,
          2009,
          2010,
          2011,
          2012,
          2013,
          2014,
          2015,
          2016,
          2017,
          2018,
          2019
         ],
         "xaxis": "x",
         "y": [
          51124,
          51973,
          52302,
          54326,
          54222,
          52461,
          51627,
          51487,
          51126,
          52679,
          53664,
          55597,
          56261,
          56725,
          57705,
          56966,
          55302,
          54874,
          54581,
          55215,
          56945,
          57772,
          58961,
          61128,
          62641,
          62512,
          61126,
          60435,
          60360,
          60150,
          60794,
          61268,
          62090,
          59877,
          59458,
          57904,
          57021,
          56912,
          57095,
          58001,
          60987,
          62898,
          64007,
          64324,
          68703
         ],
         "yaxis": "y2"
        }
       ],
       "layout": {
        "font": {
         "family": "Times New Roman"
        },
        "height": 400,
        "template": {
         "data": {
          "bar": [
           {
            "error_x": {
             "color": "#2a3f5f"
            },
            "error_y": {
             "color": "#2a3f5f"
            },
            "marker": {
             "line": {
              "color": "#E5ECF6",
              "width": 0.5
             }
            },
            "type": "bar"
           }
          ],
          "barpolar": [
           {
            "marker": {
             "line": {
              "color": "#E5ECF6",
              "width": 0.5
             }
            },
            "type": "barpolar"
           }
          ],
          "carpet": [
           {
            "aaxis": {
             "endlinecolor": "#2a3f5f",
             "gridcolor": "white",
             "linecolor": "white",
             "minorgridcolor": "white",
             "startlinecolor": "#2a3f5f"
            },
            "baxis": {
             "endlinecolor": "#2a3f5f",
             "gridcolor": "white",
             "linecolor": "white",
             "minorgridcolor": "white",
             "startlinecolor": "#2a3f5f"
            },
            "type": "carpet"
           }
          ],
          "choropleth": [
           {
            "colorbar": {
             "outlinewidth": 0,
             "ticks": ""
            },
            "type": "choropleth"
           }
          ],
          "contour": [
           {
            "colorbar": {
             "outlinewidth": 0,
             "ticks": ""
            },
            "colorscale": [
             [
              0,
              "#0d0887"
             ],
             [
              0.1111111111111111,
              "#46039f"
             ],
             [
              0.2222222222222222,
              "#7201a8"
             ],
             [
              0.3333333333333333,
              "#9c179e"
             ],
             [
              0.4444444444444444,
              "#bd3786"
             ],
             [
              0.5555555555555556,
              "#d8576b"
             ],
             [
              0.6666666666666666,
              "#ed7953"
             ],
             [
              0.7777777777777778,
              "#fb9f3a"
             ],
             [
              0.8888888888888888,
              "#fdca26"
             ],
             [
              1,
              "#f0f921"
             ]
            ],
            "type": "contour"
           }
          ],
          "contourcarpet": [
           {
            "colorbar": {
             "outlinewidth": 0,
             "ticks": ""
            },
            "type": "contourcarpet"
           }
          ],
          "heatmap": [
           {
            "colorbar": {
             "outlinewidth": 0,
             "ticks": ""
            },
            "colorscale": [
             [
              0,
              "#0d0887"
             ],
             [
              0.1111111111111111,
              "#46039f"
             ],
             [
              0.2222222222222222,
              "#7201a8"
             ],
             [
              0.3333333333333333,
              "#9c179e"
             ],
             [
              0.4444444444444444,
              "#bd3786"
             ],
             [
              0.5555555555555556,
              "#d8576b"
             ],
             [
              0.6666666666666666,
              "#ed7953"
             ],
             [
              0.7777777777777778,
              "#fb9f3a"
             ],
             [
              0.8888888888888888,
              "#fdca26"
             ],
             [
              1,
              "#f0f921"
             ]
            ],
            "type": "heatmap"
           }
          ],
          "heatmapgl": [
           {
            "colorbar": {
             "outlinewidth": 0,
             "ticks": ""
            },
            "colorscale": [
             [
              0,
              "#0d0887"
             ],
             [
              0.1111111111111111,
              "#46039f"
             ],
             [
              0.2222222222222222,
              "#7201a8"
             ],
             [
              0.3333333333333333,
              "#9c179e"
             ],
             [
              0.4444444444444444,
              "#bd3786"
             ],
             [
              0.5555555555555556,
              "#d8576b"
             ],
             [
              0.6666666666666666,
              "#ed7953"
             ],
             [
              0.7777777777777778,
              "#fb9f3a"
             ],
             [
              0.8888888888888888,
              "#fdca26"
             ],
             [
              1,
              "#f0f921"
             ]
            ],
            "type": "heatmapgl"
           }
          ],
          "histogram": [
           {
            "marker": {
             "colorbar": {
              "outlinewidth": 0,
              "ticks": ""
             }
            },
            "type": "histogram"
           }
          ],
          "histogram2d": [
           {
            "colorbar": {
             "outlinewidth": 0,
             "ticks": ""
            },
            "colorscale": [
             [
              0,
              "#0d0887"
             ],
             [
              0.1111111111111111,
              "#46039f"
             ],
             [
              0.2222222222222222,
              "#7201a8"
             ],
             [
              0.3333333333333333,
              "#9c179e"
             ],
             [
              0.4444444444444444,
              "#bd3786"
             ],
             [
              0.5555555555555556,
              "#d8576b"
             ],
             [
              0.6666666666666666,
              "#ed7953"
             ],
             [
              0.7777777777777778,
              "#fb9f3a"
             ],
             [
              0.8888888888888888,
              "#fdca26"
             ],
             [
              1,
              "#f0f921"
             ]
            ],
            "type": "histogram2d"
           }
          ],
          "histogram2dcontour": [
           {
            "colorbar": {
             "outlinewidth": 0,
             "ticks": ""
            },
            "colorscale": [
             [
              0,
              "#0d0887"
             ],
             [
              0.1111111111111111,
              "#46039f"
             ],
             [
              0.2222222222222222,
              "#7201a8"
             ],
             [
              0.3333333333333333,
              "#9c179e"
             ],
             [
              0.4444444444444444,
              "#bd3786"
             ],
             [
              0.5555555555555556,
              "#d8576b"
             ],
             [
              0.6666666666666666,
              "#ed7953"
             ],
             [
              0.7777777777777778,
              "#fb9f3a"
             ],
             [
              0.8888888888888888,
              "#fdca26"
             ],
             [
              1,
              "#f0f921"
             ]
            ],
            "type": "histogram2dcontour"
           }
          ],
          "mesh3d": [
           {
            "colorbar": {
             "outlinewidth": 0,
             "ticks": ""
            },
            "type": "mesh3d"
           }
          ],
          "parcoords": [
           {
            "line": {
             "colorbar": {
              "outlinewidth": 0,
              "ticks": ""
             }
            },
            "type": "parcoords"
           }
          ],
          "pie": [
           {
            "automargin": true,
            "type": "pie"
           }
          ],
          "scatter": [
           {
            "marker": {
             "colorbar": {
              "outlinewidth": 0,
              "ticks": ""
             }
            },
            "type": "scatter"
           }
          ],
          "scatter3d": [
           {
            "line": {
             "colorbar": {
              "outlinewidth": 0,
              "ticks": ""
             }
            },
            "marker": {
             "colorbar": {
              "outlinewidth": 0,
              "ticks": ""
             }
            },
            "type": "scatter3d"
           }
          ],
          "scattercarpet": [
           {
            "marker": {
             "colorbar": {
              "outlinewidth": 0,
              "ticks": ""
             }
            },
            "type": "scattercarpet"
           }
          ],
          "scattergeo": [
           {
            "marker": {
             "colorbar": {
              "outlinewidth": 0,
              "ticks": ""
             }
            },
            "type": "scattergeo"
           }
          ],
          "scattergl": [
           {
            "marker": {
             "colorbar": {
              "outlinewidth": 0,
              "ticks": ""
             }
            },
            "type": "scattergl"
           }
          ],
          "scattermapbox": [
           {
            "marker": {
             "colorbar": {
              "outlinewidth": 0,
              "ticks": ""
             }
            },
            "type": "scattermapbox"
           }
          ],
          "scatterpolar": [
           {
            "marker": {
             "colorbar": {
              "outlinewidth": 0,
              "ticks": ""
             }
            },
            "type": "scatterpolar"
           }
          ],
          "scatterpolargl": [
           {
            "marker": {
             "colorbar": {
              "outlinewidth": 0,
              "ticks": ""
             }
            },
            "type": "scatterpolargl"
           }
          ],
          "scatterternary": [
           {
            "marker": {
             "colorbar": {
              "outlinewidth": 0,
              "ticks": ""
             }
            },
            "type": "scatterternary"
           }
          ],
          "surface": [
           {
            "colorbar": {
             "outlinewidth": 0,
             "ticks": ""
            },
            "colorscale": [
             [
              0,
              "#0d0887"
             ],
             [
              0.1111111111111111,
              "#46039f"
             ],
             [
              0.2222222222222222,
              "#7201a8"
             ],
             [
              0.3333333333333333,
              "#9c179e"
             ],
             [
              0.4444444444444444,
              "#bd3786"
             ],
             [
              0.5555555555555556,
              "#d8576b"
             ],
             [
              0.6666666666666666,
              "#ed7953"
             ],
             [
              0.7777777777777778,
              "#fb9f3a"
             ],
             [
              0.8888888888888888,
              "#fdca26"
             ],
             [
              1,
              "#f0f921"
             ]
            ],
            "type": "surface"
           }
          ],
          "table": [
           {
            "cells": {
             "fill": {
              "color": "#EBF0F8"
             },
             "line": {
              "color": "white"
             }
            },
            "header": {
             "fill": {
              "color": "#C8D4E3"
             },
             "line": {
              "color": "white"
             }
            },
            "type": "table"
           }
          ]
         },
         "layout": {
          "annotationdefaults": {
           "arrowcolor": "#2a3f5f",
           "arrowhead": 0,
           "arrowwidth": 1
          },
          "autotypenumbers": "strict",
          "coloraxis": {
           "colorbar": {
            "outlinewidth": 0,
            "ticks": ""
           }
          },
          "colorscale": {
           "diverging": [
            [
             0,
             "#8e0152"
            ],
            [
             0.1,
             "#c51b7d"
            ],
            [
             0.2,
             "#de77ae"
            ],
            [
             0.3,
             "#f1b6da"
            ],
            [
             0.4,
             "#fde0ef"
            ],
            [
             0.5,
             "#f7f7f7"
            ],
            [
             0.6,
             "#e6f5d0"
            ],
            [
             0.7,
             "#b8e186"
            ],
            [
             0.8,
             "#7fbc41"
            ],
            [
             0.9,
             "#4d9221"
            ],
            [
             1,
             "#276419"
            ]
           ],
           "sequential": [
            [
             0,
             "#0d0887"
            ],
            [
             0.1111111111111111,
             "#46039f"
            ],
            [
             0.2222222222222222,
             "#7201a8"
            ],
            [
             0.3333333333333333,
             "#9c179e"
            ],
            [
             0.4444444444444444,
             "#bd3786"
            ],
            [
             0.5555555555555556,
             "#d8576b"
            ],
            [
             0.6666666666666666,
             "#ed7953"
            ],
            [
             0.7777777777777778,
             "#fb9f3a"
            ],
            [
             0.8888888888888888,
             "#fdca26"
            ],
            [
             1,
             "#f0f921"
            ]
           ],
           "sequentialminus": [
            [
             0,
             "#0d0887"
            ],
            [
             0.1111111111111111,
             "#46039f"
            ],
            [
             0.2222222222222222,
             "#7201a8"
            ],
            [
             0.3333333333333333,
             "#9c179e"
            ],
            [
             0.4444444444444444,
             "#bd3786"
            ],
            [
             0.5555555555555556,
             "#d8576b"
            ],
            [
             0.6666666666666666,
             "#ed7953"
            ],
            [
             0.7777777777777778,
             "#fb9f3a"
            ],
            [
             0.8888888888888888,
             "#fdca26"
            ],
            [
             1,
             "#f0f921"
            ]
           ]
          },
          "colorway": [
           "#636efa",
           "#EF553B",
           "#00cc96",
           "#ab63fa",
           "#FFA15A",
           "#19d3f3",
           "#FF6692",
           "#B6E880",
           "#FF97FF",
           "#FECB52"
          ],
          "font": {
           "color": "#2a3f5f"
          },
          "geo": {
           "bgcolor": "white",
           "lakecolor": "white",
           "landcolor": "#E5ECF6",
           "showlakes": true,
           "showland": true,
           "subunitcolor": "white"
          },
          "hoverlabel": {
           "align": "left"
          },
          "hovermode": "closest",
          "mapbox": {
           "style": "light"
          },
          "paper_bgcolor": "white",
          "plot_bgcolor": "#E5ECF6",
          "polar": {
           "angularaxis": {
            "gridcolor": "white",
            "linecolor": "white",
            "ticks": ""
           },
           "bgcolor": "#E5ECF6",
           "radialaxis": {
            "gridcolor": "white",
            "linecolor": "white",
            "ticks": ""
           }
          },
          "scene": {
           "xaxis": {
            "backgroundcolor": "#E5ECF6",
            "gridcolor": "white",
            "gridwidth": 2,
            "linecolor": "white",
            "showbackground": true,
            "ticks": "",
            "zerolinecolor": "white"
           },
           "yaxis": {
            "backgroundcolor": "#E5ECF6",
            "gridcolor": "white",
            "gridwidth": 2,
            "linecolor": "white",
            "showbackground": true,
            "ticks": "",
            "zerolinecolor": "white"
           },
           "zaxis": {
            "backgroundcolor": "#E5ECF6",
            "gridcolor": "white",
            "gridwidth": 2,
            "linecolor": "white",
            "showbackground": true,
            "ticks": "",
            "zerolinecolor": "white"
           }
          },
          "shapedefaults": {
           "line": {
            "color": "#2a3f5f"
           }
          },
          "ternary": {
           "aaxis": {
            "gridcolor": "white",
            "linecolor": "white",
            "ticks": ""
           },
           "baxis": {
            "gridcolor": "white",
            "linecolor": "white",
            "ticks": ""
           },
           "bgcolor": "#E5ECF6",
           "caxis": {
            "gridcolor": "white",
            "linecolor": "white",
            "ticks": ""
           }
          },
          "title": {
           "x": 0.05
          },
          "xaxis": {
           "automargin": true,
           "gridcolor": "white",
           "linecolor": "white",
           "ticks": "",
           "title": {
            "standoff": 15
           },
           "zerolinecolor": "white",
           "zerolinewidth": 2
          },
          "yaxis": {
           "automargin": true,
           "gridcolor": "white",
           "linecolor": "white",
           "ticks": "",
           "title": {
            "standoff": 15
           },
           "zerolinecolor": "white",
           "zerolinewidth": 2
          }
         }
        },
        "title": {
         "font": {
          "family": "Times New Roman"
         },
         "text": "Sector Contribution to GDP from 1975-2019",
         "x": 0.4,
         "xanchor": "center",
         "y": 0.9,
         "yanchor": "top"
        },
        "width": 1000,
        "xaxis": {
         "anchor": "y",
         "domain": [
          0,
          0.94
         ],
         "title": {
          "text": "Year"
         }
        },
        "yaxis": {
         "anchor": "x",
         "domain": [
          0,
          1
         ],
         "title": {
          "text": "GDP"
         }
        },
        "yaxis2": {
         "anchor": "x",
         "overlaying": "y",
         "rangemode": "tozero",
         "side": "right",
         "title": {
          "text": "Income"
         }
        }
       }
      },
      "text/html": [
       "<div>                            <div id=\"4396665c-dacb-48f9-806c-1ef8d0a058f8\" class=\"plotly-graph-div\" style=\"height:400px; width:1000px;\"></div>            <script type=\"text/javascript\">                require([\"plotly\"], function(Plotly) {                    window.PLOTLYENV=window.PLOTLYENV || {};                                    if (document.getElementById(\"4396665c-dacb-48f9-806c-1ef8d0a058f8\")) {                    Plotly.newPlot(                        \"4396665c-dacb-48f9-806c-1ef8d0a058f8\",                        [{\"name\": \"GDP\", \"type\": \"scatter\", \"x\": [1975, 1976, 1977, 1978, 1979, 1980, 1981, 1982, 1983, 1984, 1985, 1986, 1987, 1988, 1989, 1990, 1991, 1992, 1993, 1994, 1995, 1996, 1997, 1998, 1999, 2000, 2001, 2002, 2003, 2004, 2005, 2006, 2007, 2008, 2009, 2010, 2011, 2012, 2013, 2014, 2015, 2016, 2017, 2018, 2019], \"xaxis\": \"x\", \"y\": [1390.1, 1553.1999999999998, 1726.9, 1947.2999999999997, 2173.0, 2347.1, 2630.0, 2715.1, 2932.1, 3263.0, 3490.6000000000004, 3667.7000000000003, 3899.2, 4193.7, 4509.0, 4761.0, 4892.299999999999, 5160.299999999999, 5415.9, 5774.4, 6014.7, 6346.2, 6965.200000000001, 7352.699999999999, 7793.6, 8277.599999999999, 8453.699999999999, 8719.4, 9162.300000000001, 9824.6, 10430.400000000001, 11070.7, 11603.599999999999, 11950.099999999999, 11581.2, 12049.1, 12497.3, 12936.0, 13462.100000000002, 13979.3, 14489.3, 14799.099999999999, 15426.2, 16240.000000000002, 16891.4], \"yaxis\": \"y\"}, {\"name\": \"Median household income\", \"type\": \"scatter\", \"x\": [1975, 1976, 1977, 1978, 1979, 1980, 1981, 1982, 1983, 1984, 1985, 1986, 1987, 1988, 1989, 1990, 1991, 1992, 1993, 1994, 1995, 1996, 1997, 1998, 1999, 2000, 2001, 2002, 2003, 2004, 2005, 2006, 2007, 2008, 2009, 2010, 2011, 2012, 2013, 2014, 2015, 2016, 2017, 2018, 2019], \"xaxis\": \"x\", \"y\": [51124, 51973, 52302, 54326, 54222, 52461, 51627, 51487, 51126, 52679, 53664, 55597, 56261, 56725, 57705, 56966, 55302, 54874, 54581, 55215, 56945, 57772, 58961, 61128, 62641, 62512, 61126, 60435, 60360, 60150, 60794, 61268, 62090, 59877, 59458, 57904, 57021, 56912, 57095, 58001, 60987, 62898, 64007, 64324, 68703], \"yaxis\": \"y2\"}],                        {\"font\": {\"family\": \"Times New Roman\"}, \"height\": 400, \"template\": {\"data\": {\"bar\": [{\"error_x\": {\"color\": \"#2a3f5f\"}, \"error_y\": {\"color\": \"#2a3f5f\"}, \"marker\": {\"line\": {\"color\": \"#E5ECF6\", \"width\": 0.5}}, \"type\": \"bar\"}], \"barpolar\": [{\"marker\": {\"line\": {\"color\": \"#E5ECF6\", \"width\": 0.5}}, \"type\": \"barpolar\"}], \"carpet\": [{\"aaxis\": {\"endlinecolor\": \"#2a3f5f\", \"gridcolor\": \"white\", \"linecolor\": \"white\", \"minorgridcolor\": \"white\", \"startlinecolor\": \"#2a3f5f\"}, \"baxis\": {\"endlinecolor\": \"#2a3f5f\", \"gridcolor\": \"white\", \"linecolor\": \"white\", \"minorgridcolor\": \"white\", \"startlinecolor\": \"#2a3f5f\"}, \"type\": \"carpet\"}], \"choropleth\": [{\"colorbar\": {\"outlinewidth\": 0, \"ticks\": \"\"}, \"type\": \"choropleth\"}], \"contour\": [{\"colorbar\": {\"outlinewidth\": 0, \"ticks\": \"\"}, \"colorscale\": [[0.0, \"#0d0887\"], [0.1111111111111111, \"#46039f\"], [0.2222222222222222, \"#7201a8\"], [0.3333333333333333, \"#9c179e\"], [0.4444444444444444, \"#bd3786\"], [0.5555555555555556, \"#d8576b\"], [0.6666666666666666, \"#ed7953\"], [0.7777777777777778, \"#fb9f3a\"], [0.8888888888888888, \"#fdca26\"], [1.0, \"#f0f921\"]], \"type\": \"contour\"}], \"contourcarpet\": [{\"colorbar\": {\"outlinewidth\": 0, \"ticks\": \"\"}, \"type\": \"contourcarpet\"}], \"heatmap\": [{\"colorbar\": {\"outlinewidth\": 0, \"ticks\": \"\"}, \"colorscale\": [[0.0, \"#0d0887\"], [0.1111111111111111, \"#46039f\"], [0.2222222222222222, \"#7201a8\"], [0.3333333333333333, \"#9c179e\"], [0.4444444444444444, \"#bd3786\"], [0.5555555555555556, \"#d8576b\"], [0.6666666666666666, \"#ed7953\"], [0.7777777777777778, \"#fb9f3a\"], [0.8888888888888888, \"#fdca26\"], [1.0, \"#f0f921\"]], \"type\": \"heatmap\"}], \"heatmapgl\": [{\"colorbar\": {\"outlinewidth\": 0, \"ticks\": \"\"}, \"colorscale\": [[0.0, \"#0d0887\"], [0.1111111111111111, \"#46039f\"], [0.2222222222222222, \"#7201a8\"], [0.3333333333333333, \"#9c179e\"], [0.4444444444444444, \"#bd3786\"], [0.5555555555555556, \"#d8576b\"], [0.6666666666666666, \"#ed7953\"], [0.7777777777777778, \"#fb9f3a\"], [0.8888888888888888, \"#fdca26\"], [1.0, \"#f0f921\"]], \"type\": \"heatmapgl\"}], \"histogram\": [{\"marker\": {\"colorbar\": {\"outlinewidth\": 0, \"ticks\": \"\"}}, \"type\": \"histogram\"}], \"histogram2d\": [{\"colorbar\": {\"outlinewidth\": 0, \"ticks\": \"\"}, \"colorscale\": [[0.0, \"#0d0887\"], [0.1111111111111111, \"#46039f\"], [0.2222222222222222, \"#7201a8\"], [0.3333333333333333, \"#9c179e\"], [0.4444444444444444, \"#bd3786\"], [0.5555555555555556, \"#d8576b\"], [0.6666666666666666, \"#ed7953\"], [0.7777777777777778, \"#fb9f3a\"], [0.8888888888888888, \"#fdca26\"], [1.0, \"#f0f921\"]], \"type\": \"histogram2d\"}], \"histogram2dcontour\": [{\"colorbar\": {\"outlinewidth\": 0, \"ticks\": \"\"}, \"colorscale\": [[0.0, \"#0d0887\"], [0.1111111111111111, \"#46039f\"], [0.2222222222222222, \"#7201a8\"], [0.3333333333333333, \"#9c179e\"], [0.4444444444444444, \"#bd3786\"], [0.5555555555555556, \"#d8576b\"], [0.6666666666666666, \"#ed7953\"], [0.7777777777777778, \"#fb9f3a\"], [0.8888888888888888, \"#fdca26\"], [1.0, \"#f0f921\"]], \"type\": \"histogram2dcontour\"}], \"mesh3d\": [{\"colorbar\": {\"outlinewidth\": 0, \"ticks\": \"\"}, \"type\": \"mesh3d\"}], \"parcoords\": [{\"line\": {\"colorbar\": {\"outlinewidth\": 0, \"ticks\": \"\"}}, \"type\": \"parcoords\"}], \"pie\": [{\"automargin\": true, \"type\": \"pie\"}], \"scatter\": [{\"marker\": {\"colorbar\": {\"outlinewidth\": 0, \"ticks\": \"\"}}, \"type\": \"scatter\"}], \"scatter3d\": [{\"line\": {\"colorbar\": {\"outlinewidth\": 0, \"ticks\": \"\"}}, \"marker\": {\"colorbar\": {\"outlinewidth\": 0, \"ticks\": \"\"}}, \"type\": \"scatter3d\"}], \"scattercarpet\": [{\"marker\": {\"colorbar\": {\"outlinewidth\": 0, \"ticks\": \"\"}}, \"type\": \"scattercarpet\"}], \"scattergeo\": [{\"marker\": {\"colorbar\": {\"outlinewidth\": 0, \"ticks\": \"\"}}, \"type\": \"scattergeo\"}], \"scattergl\": [{\"marker\": {\"colorbar\": {\"outlinewidth\": 0, \"ticks\": \"\"}}, \"type\": \"scattergl\"}], \"scattermapbox\": [{\"marker\": {\"colorbar\": {\"outlinewidth\": 0, \"ticks\": \"\"}}, \"type\": \"scattermapbox\"}], \"scatterpolar\": [{\"marker\": {\"colorbar\": {\"outlinewidth\": 0, \"ticks\": \"\"}}, \"type\": \"scatterpolar\"}], \"scatterpolargl\": [{\"marker\": {\"colorbar\": {\"outlinewidth\": 0, \"ticks\": \"\"}}, \"type\": \"scatterpolargl\"}], \"scatterternary\": [{\"marker\": {\"colorbar\": {\"outlinewidth\": 0, \"ticks\": \"\"}}, \"type\": \"scatterternary\"}], \"surface\": [{\"colorbar\": {\"outlinewidth\": 0, \"ticks\": \"\"}, \"colorscale\": [[0.0, \"#0d0887\"], [0.1111111111111111, \"#46039f\"], [0.2222222222222222, \"#7201a8\"], [0.3333333333333333, \"#9c179e\"], [0.4444444444444444, \"#bd3786\"], [0.5555555555555556, \"#d8576b\"], [0.6666666666666666, \"#ed7953\"], [0.7777777777777778, \"#fb9f3a\"], [0.8888888888888888, \"#fdca26\"], [1.0, \"#f0f921\"]], \"type\": \"surface\"}], \"table\": [{\"cells\": {\"fill\": {\"color\": \"#EBF0F8\"}, \"line\": {\"color\": \"white\"}}, \"header\": {\"fill\": {\"color\": \"#C8D4E3\"}, \"line\": {\"color\": \"white\"}}, \"type\": \"table\"}]}, \"layout\": {\"annotationdefaults\": {\"arrowcolor\": \"#2a3f5f\", \"arrowhead\": 0, \"arrowwidth\": 1}, \"autotypenumbers\": \"strict\", \"coloraxis\": {\"colorbar\": {\"outlinewidth\": 0, \"ticks\": \"\"}}, \"colorscale\": {\"diverging\": [[0, \"#8e0152\"], [0.1, \"#c51b7d\"], [0.2, \"#de77ae\"], [0.3, \"#f1b6da\"], [0.4, \"#fde0ef\"], [0.5, \"#f7f7f7\"], [0.6, \"#e6f5d0\"], [0.7, \"#b8e186\"], [0.8, \"#7fbc41\"], [0.9, \"#4d9221\"], [1, \"#276419\"]], \"sequential\": [[0.0, \"#0d0887\"], [0.1111111111111111, \"#46039f\"], [0.2222222222222222, \"#7201a8\"], [0.3333333333333333, \"#9c179e\"], [0.4444444444444444, \"#bd3786\"], [0.5555555555555556, \"#d8576b\"], [0.6666666666666666, \"#ed7953\"], [0.7777777777777778, \"#fb9f3a\"], [0.8888888888888888, \"#fdca26\"], [1.0, \"#f0f921\"]], \"sequentialminus\": [[0.0, \"#0d0887\"], [0.1111111111111111, \"#46039f\"], [0.2222222222222222, \"#7201a8\"], [0.3333333333333333, \"#9c179e\"], [0.4444444444444444, \"#bd3786\"], [0.5555555555555556, \"#d8576b\"], [0.6666666666666666, \"#ed7953\"], [0.7777777777777778, \"#fb9f3a\"], [0.8888888888888888, \"#fdca26\"], [1.0, \"#f0f921\"]]}, \"colorway\": [\"#636efa\", \"#EF553B\", \"#00cc96\", \"#ab63fa\", \"#FFA15A\", \"#19d3f3\", \"#FF6692\", \"#B6E880\", \"#FF97FF\", \"#FECB52\"], \"font\": {\"color\": \"#2a3f5f\"}, \"geo\": {\"bgcolor\": \"white\", \"lakecolor\": \"white\", \"landcolor\": \"#E5ECF6\", \"showlakes\": true, \"showland\": true, \"subunitcolor\": \"white\"}, \"hoverlabel\": {\"align\": \"left\"}, \"hovermode\": \"closest\", \"mapbox\": {\"style\": \"light\"}, \"paper_bgcolor\": \"white\", \"plot_bgcolor\": \"#E5ECF6\", \"polar\": {\"angularaxis\": {\"gridcolor\": \"white\", \"linecolor\": \"white\", \"ticks\": \"\"}, \"bgcolor\": \"#E5ECF6\", \"radialaxis\": {\"gridcolor\": \"white\", \"linecolor\": \"white\", \"ticks\": \"\"}}, \"scene\": {\"xaxis\": {\"backgroundcolor\": \"#E5ECF6\", \"gridcolor\": \"white\", \"gridwidth\": 2, \"linecolor\": \"white\", \"showbackground\": true, \"ticks\": \"\", \"zerolinecolor\": \"white\"}, \"yaxis\": {\"backgroundcolor\": \"#E5ECF6\", \"gridcolor\": \"white\", \"gridwidth\": 2, \"linecolor\": \"white\", \"showbackground\": true, \"ticks\": \"\", \"zerolinecolor\": \"white\"}, \"zaxis\": {\"backgroundcolor\": \"#E5ECF6\", \"gridcolor\": \"white\", \"gridwidth\": 2, \"linecolor\": \"white\", \"showbackground\": true, \"ticks\": \"\", \"zerolinecolor\": \"white\"}}, \"shapedefaults\": {\"line\": {\"color\": \"#2a3f5f\"}}, \"ternary\": {\"aaxis\": {\"gridcolor\": \"white\", \"linecolor\": \"white\", \"ticks\": \"\"}, \"baxis\": {\"gridcolor\": \"white\", \"linecolor\": \"white\", \"ticks\": \"\"}, \"bgcolor\": \"#E5ECF6\", \"caxis\": {\"gridcolor\": \"white\", \"linecolor\": \"white\", \"ticks\": \"\"}}, \"title\": {\"x\": 0.05}, \"xaxis\": {\"automargin\": true, \"gridcolor\": \"white\", \"linecolor\": \"white\", \"ticks\": \"\", \"title\": {\"standoff\": 15}, \"zerolinecolor\": \"white\", \"zerolinewidth\": 2}, \"yaxis\": {\"automargin\": true, \"gridcolor\": \"white\", \"linecolor\": \"white\", \"ticks\": \"\", \"title\": {\"standoff\": 15}, \"zerolinecolor\": \"white\", \"zerolinewidth\": 2}}}, \"title\": {\"font\": {\"family\": \"Times New Roman\"}, \"text\": \"Sector Contribution to GDP from 1975-2019\", \"x\": 0.4, \"xanchor\": \"center\", \"y\": 0.9, \"yanchor\": \"top\"}, \"width\": 1000, \"xaxis\": {\"anchor\": \"y\", \"domain\": [0.0, 0.94], \"title\": {\"text\": \"Year\"}}, \"yaxis\": {\"anchor\": \"x\", \"domain\": [0.0, 1.0], \"title\": {\"text\": \"GDP\"}}, \"yaxis2\": {\"anchor\": \"x\", \"overlaying\": \"y\", \"rangemode\": \"tozero\", \"side\": \"right\", \"title\": {\"text\": \"Income\"}}},                        {\"responsive\": true}                    ).then(function(){\n",
       "                            \n",
       "var gd = document.getElementById('4396665c-dacb-48f9-806c-1ef8d0a058f8');\n",
       "var x = new MutationObserver(function (mutations, observer) {{\n",
       "        var display = window.getComputedStyle(gd).display;\n",
       "        if (!display || display === 'none') {{\n",
       "            console.log([gd, 'removed!']);\n",
       "            Plotly.purge(gd);\n",
       "            observer.disconnect();\n",
       "        }}\n",
       "}});\n",
       "\n",
       "// Listen for the removal of the full notebook cells\n",
       "var notebookContainer = gd.closest('#notebook-container');\n",
       "if (notebookContainer) {{\n",
       "    x.observe(notebookContainer, {childList: true});\n",
       "}}\n",
       "\n",
       "// Listen for the clearing of the current output cell\n",
       "var outputEl = gd.closest('.output');\n",
       "if (outputEl) {{\n",
       "    x.observe(outputEl, {childList: true});\n",
       "}}\n",
       "\n",
       "                        })                };                });            </script>        </div>"
      ]
     },
     "metadata": {},
     "output_type": "display_data"
    }
   ],
   "source": [
    "fig = make_subplots(specs=[[{\"secondary_y\": True}]])\n",
    "\n",
    "fig.add_trace(go.Scatter(x = (gdpi_df.loc[gdpi_df['YEAR']>=1975])['YEAR'],\n",
    "                             y = (gdpie_df.loc[gdpie_df['YEAR']>=1975])['GDP - FIRE'],\n",
    "                             name = 'GDP'),\n",
    "              secondary_y = False\n",
    ")\n",
    "\n",
    "fig.add_trace(go.Scatter(x = (gdpi_df.loc[gdpi_df['YEAR']>=1975])['YEAR'],\n",
    "                             y = usi_df['MEDIAN 2019'],\n",
    "                             name = 'Median household income'),\n",
    "              secondary_y = True\n",
    ")\n",
    "    \n",
    "fig.update_yaxes(title_text=\"GDP\", secondary_y = False)\n",
    "fig.update_yaxes(title_text=\"Income\",rangemode=\"tozero\", secondary_y = True)\n",
    "fig.update_xaxes( title_text=\"Year\")\n",
    "\n",
    "\n",
    "fig.update_layout(\n",
    "    font_family=\"Times New Roman\",\n",
    "    title_font_family=\"Times New Roman\",\n",
    "    height=400, width=1000,\n",
    "    title={\n",
    "        'text': \"Sector Contribution to GDP from 1975-2019\",\n",
    "        'y':0.9,\n",
    "        'x':0.4,\n",
    "        'xanchor': 'center',\n",
    "        'yanchor': 'top'}\n",
    ")\n",
    "\n",
    "fig.show()"
   ]
  },
  {
   "cell_type": "code",
   "execution_count": null,
   "metadata": {},
   "outputs": [],
   "source": []
  },
  {
   "cell_type": "code",
   "execution_count": null,
   "metadata": {},
   "outputs": [],
   "source": []
  }
 ],
 "metadata": {
  "kernelspec": {
   "display_name": "Python 3",
   "language": "python",
   "name": "python3"
  },
  "language_info": {
   "codemirror_mode": {
    "name": "ipython",
    "version": 3
   },
   "file_extension": ".py",
   "mimetype": "text/x-python",
   "name": "python",
   "nbconvert_exporter": "python",
   "pygments_lexer": "ipython3",
   "version": "3.8.5"
  }
 },
 "nbformat": 4,
 "nbformat_minor": 4
}
